{
 "cells": [
  {
   "cell_type": "markdown",
   "id": "b92ec26e",
   "metadata": {},
   "source": [
    "# JaSP: un pequeño pathfinder aplicado a laberintos\n",
    "Inteligencia Artificial\n",
    "Facultad de Ingeniería Eléctrica\n",
    "\n",
    "**INTEGRANTES DEL EQUIPO**\n",
    "- GUSTAVO ALONSO ANAYA MORENO\n",
    "- AARON URIEL GUZMAN CARDOSO (2100554h@umich.mx)\n",
    "- PERLA PAOLA PANTALEON BEDOLLA"
   ]
  },
  {
   "cell_type": "markdown",
   "id": "c1b7550f",
   "metadata": {},
   "source": [
    "# Introducción\n",
    "\n",
    "## El problema\n",
    "Buscamos encontrar una ruta válida desde $\\mathbf{a}$ hasta $\\mathbf{b}$, tomando en cuenta solo caminos posibles para el agente de IA. Este tendrá un espacio representado por una matriz binaria $\\mathbf{M}$ de $m$ por $n$, tal que el valor de la celda corresponde a la expresión booleana \"**No es posible atravesar la celda sin encontrar un obstáculo**\".  \n",
    "### Estado\n",
    "#### Almacenamiento\n",
    "Para la resolución de este problema tenemos los siguientes constructos para el almacenamiento del **estado** del problema:\n",
    "- Posición del agente en la iteración $i$: \n",
    "$$\n",
    "\\mathbf{p_i} =\n",
    "\\begin{bmatrix}\n",
    "x_i \\\\\n",
    "y_i \\\\\n",
    "\\end{bmatrix}\n",
    "$$ Siendo que esta posición se refiere a la posición de una celda en una matriz.\n",
    "- El vector de posición inicial $\\mathbf{a}$.\n",
    "- El vector de posición meta $\\mathbf{b}$ del agente.\n",
    "\n",
    "#### Manipulación\n",
    "Como deseamos manipular $p$ durante iteraciones progresivas hemos definido al operador sucesor como:\n",
    "$S = \\text{Succ}(\\mathbf{p}_i) \\subseteq D$, tal que todo elemento de $S$ cumpla con \"**Ser una celda dentro de los confines de la matriz y esta sea una sin obstáculos**\". Aquí $D$ es el conjunto de traslaciones válidas para el vector $\\mathbf{p}$, tal que $D = \\{\\mathbf{d}_{\\text{up}}, \\mathbf{d}_{\\text{down}}, \\mathbf{d}_{\\text{left}}, \\mathbf{d}_{\\text{right}} \\}$\n",
    "\n",
    "#### Condición de meta\n",
    "La condición de meta será simplemente que $\\mathbf{p}_i = \\mathbf{b}$\n",
    "\n",
    "#### Heurística\n",
    "La heurística considerada para el método **A\\*** será la distancia Manhattan, ya que esta representa adecuadamente los movimientos posibles para el agente (arriba, abajo, izquierda y derecha pero no diagonales). \n",
    "$$ h(x_i,y_i) = | b_1 - x_i| + |b_2 - y_i|$$\n",
    "Siendo que:\n",
    "- $b_1$ y $b_2$ son las posiciones meta.\n",
    "- $x_i$ y $y_i$ son las posiciones de la iteración $i$.\n",
    "\n",
    "##### Admisibilidad de la Herurística\n",
    "Nunca sobreestima el costo real de llegar a la meta. En un laberinto de cuadrícula, el camino más corto siempre será igual o mayor que la suma de las distancias horizontales y verticales.\n"
   ]
  },
  {
   "cell_type": "markdown",
   "id": "04370f99",
   "metadata": {},
   "source": [
    "## Propuesta de solución\n",
    "Dado el problema se realizará su planteamiento y solución en Python con ayuda de la biblioteca incluida en el repositorio `SimpleSearch` para realizar tanto búsqueda no informada (BFS, DFS) como informada (A\\*) para la resolución de primeramente laberintos y luego entornos con obstáculos arbitrarios y más de un camino posible."
   ]
  },
  {
   "cell_type": "markdown",
   "id": "41b1009a",
   "metadata": {},
   "source": [
    "## Desarrollo"
   ]
  },
  {
   "cell_type": "markdown",
   "id": "ede2d72b",
   "metadata": {},
   "source": [
    "### Creación del entorno y metas"
   ]
  },
  {
   "cell_type": "code",
   "execution_count": 1,
   "id": "9b006462",
   "metadata": {},
   "outputs": [],
   "source": [
    "\n",
    "from src.SimpleSearch import node, BlindSearch\n",
    "import matplotlib.pyplot as plt\n",
    "import numpy as np\n",
    "import time\n",
    "import pandas as pd"
   ]
  },
  {
   "cell_type": "code",
   "execution_count": 2,
   "id": "9a7db205",
   "metadata": {},
   "outputs": [],
   "source": [
    "maze = [\n",
    "    [0,0,1,0,0,0,1,0,0,0],\n",
    "    [1,0,1,0,1,0,1,0,1,0],\n",
    "    [0,0,0,0,1,0,0,0,1,0],\n",
    "    [0,1,1,1,1,1,1,0,1,0],\n",
    "    [0,0,0,0,0,0,1,0,1,0],\n",
    "    [1,1,1,1,1,0,1,0,1,0],\n",
    "    [0,0,0,0,1,0,0,0,1,0],\n",
    "    [0,1,1,0,1,0,1,1,1,0],\n",
    "    [0,0,0,0,0,0,0,0,0,0],\n",
    "    [1,1,1,1,1,1,1,1,1,0]\n",
    "]\n",
    "\n",
    "start_state = (0,0)   \n",
    "goal_state  = (9,9)   \n"
   ]
  },
  {
   "cell_type": "markdown",
   "id": "26aeba4b",
   "metadata": {},
   "source": [
    "### Funciones que alteran el estado del problema"
   ]
  },
  {
   "cell_type": "code",
   "execution_count": 3,
   "id": "5bdd2743",
   "metadata": {},
   "outputs": [],
   "source": [
    "MOVES = {\n",
    "    \"up\": (-1,0),\n",
    "    \"down\": (1,0),\n",
    "    \"left\": (0,-1),\n",
    "    \"right\": (0,1)\n",
    "}\n",
    "\n",
    "def successor(n):\n",
    "    x, y = n.state\n",
    "    valid = lambda nx, ny: 0 <= nx < len(maze) and 0 <= ny < len(maze[0]) and maze[nx][ny] == 0\n",
    "    successors = [\n",
    "        node(state=(x+dx, y+dy), parent=n, depth=n.depth+1, op=action)\n",
    "        for action, (dx, dy) in MOVES.items()\n",
    "        if valid(x+dx, y+dy)\n",
    "    ]\n",
    "    return successors\n",
    "\n",
    "def goal(n, goal_state):\n",
    "    return n.state == goal_state\n",
    "\n",
    "def heuristic(n, goal_state):\n",
    "    (x1,y1) = n.state\n",
    "    (x2,y2) = goal_state\n",
    "    return abs(x1-x2) + abs(y1-y2)\n"
   ]
  },
  {
   "cell_type": "markdown",
   "id": "bee1a8c4",
   "metadata": {},
   "source": [
    "### Búsquedas"
   ]
  },
  {
   "cell_type": "markdown",
   "id": "67c5205a",
   "metadata": {},
   "source": [
    "Definimos el camino de inicio para todas las búsquedas a través de un nodo de `SimpleSearch`."
   ]
  },
  {
   "cell_type": "code",
   "execution_count": null,
   "id": "bc6601be",
   "metadata": {},
   "outputs": [],
   "source": [
    "\n",
    "start_node = node(state=start_state)"
   ]
  },
  {
   "cell_type": "markdown",
   "id": "6aff543b",
   "metadata": {},
   "source": [
    "#### Breadth First Search"
   ]
  },
  {
   "cell_type": "code",
   "execution_count": 5,
   "id": "30db7364",
   "metadata": {},
   "outputs": [
    {
     "name": "stdout",
     "output_type": "stream",
     "text": [
      "finished in 51 iterations\n",
      "Camino BFS: [((0, 0), '', 0), ((0, 1), 'right', 1), ((1, 1), 'down', 2), ((2, 1), 'down', 3), ((2, 0), 'left', 4), ((3, 0), 'down', 5), ((4, 0), 'down', 6), ((4, 1), 'right', 7), ((4, 2), 'right', 8), ((4, 3), 'right', 9), ((4, 4), 'right', 10), ((4, 5), 'right', 11), ((5, 5), 'down', 12), ((6, 5), 'down', 13), ((7, 5), 'down', 14), ((8, 5), 'down', 15), ((8, 6), 'right', 16), ((8, 7), 'right', 17), ((8, 8), 'right', 18), ((8, 9), 'right', 19), ((9, 9), 'down', 20)]\n"
     ]
    }
   ],
   "source": [
    "search_bfs = BlindSearch(start=start_node, successor=successor, goal=goal, strategy=\"bfs\", goal_state=goal_state)\n",
    "result_bfs = search_bfs.find()\n",
    "print(\"Camino BFS:\", result_bfs.getPath())"
   ]
  },
  {
   "cell_type": "markdown",
   "id": "e9b99ab1",
   "metadata": {},
   "source": [
    "Dado que es una búsqueda por anchura y este laberinto de prueba en especial tiene más de un camino solución, encontramos un camino óptimo. Más adelante veremos que esta búsqueda realizó más iteraciones."
   ]
  },
  {
   "cell_type": "markdown",
   "id": "fa78b3cb",
   "metadata": {},
   "source": [
    "#### Depth First Search"
   ]
  },
  {
   "cell_type": "code",
   "execution_count": 6,
   "id": "5fb554d8",
   "metadata": {},
   "outputs": [
    {
     "name": "stdout",
     "output_type": "stream",
     "text": [
      "finished in 27 iterations\n",
      "Camino DFS: [((0, 0), '', 0), ((0, 1), 'right', 1), ((1, 1), 'down', 2), ((2, 1), 'down', 3), ((2, 2), 'right', 4), ((2, 3), 'right', 5), ((1, 3), 'up', 6), ((0, 3), 'up', 7), ((0, 4), 'right', 8), ((0, 5), 'right', 9), ((1, 5), 'down', 10), ((2, 5), 'down', 11), ((2, 6), 'right', 12), ((2, 7), 'right', 13), ((3, 7), 'down', 14), ((4, 7), 'down', 15), ((5, 7), 'down', 16), ((6, 7), 'down', 17), ((6, 6), 'left', 18), ((6, 5), 'left', 19), ((7, 5), 'down', 20), ((8, 5), 'down', 21), ((8, 6), 'right', 22), ((8, 7), 'right', 23), ((8, 8), 'right', 24), ((8, 9), 'right', 25), ((9, 9), 'down', 26)]\n"
     ]
    }
   ],
   "source": [
    "search_dfs = BlindSearch(start=start_node, successor=successor, goal=goal, strategy=\"dfs\", goal_state=goal_state)\n",
    "result_dfs = search_dfs.find()\n",
    "print(\"Camino DFS:\", result_dfs.getPath())"
   ]
  },
  {
   "cell_type": "markdown",
   "id": "70b5c5c2",
   "metadata": {},
   "source": [
    "Con una búsqueda por profundidad encontramos una solución no óptima, esto es lo que sucede al haber más de una sola solución."
   ]
  },
  {
   "cell_type": "markdown",
   "id": "dd877928",
   "metadata": {},
   "source": [
    "#### Búsqueda A\\*"
   ]
  },
  {
   "cell_type": "code",
   "execution_count": 7,
   "id": "0f8a44ad",
   "metadata": {},
   "outputs": [
    {
     "name": "stdout",
     "output_type": "stream",
     "text": [
      "finished in 26 iterations\n",
      "Camino A*: [((0, 0), '', 0), ((0, 1), 'right', 1), ((1, 1), 'down', 2), ((2, 1), 'down', 3), ((2, 0), 'left', 4), ((3, 0), 'down', 5), ((4, 0), 'down', 6), ((4, 1), 'right', 7), ((4, 2), 'right', 8), ((4, 3), 'right', 9), ((4, 4), 'right', 10), ((4, 5), 'right', 11), ((5, 5), 'down', 12), ((6, 5), 'down', 13), ((7, 5), 'down', 14), ((8, 5), 'down', 15), ((8, 6), 'right', 16), ((8, 7), 'right', 17), ((8, 8), 'right', 18), ((8, 9), 'right', 19), ((9, 9), 'down', 20)]\n"
     ]
    }
   ],
   "source": [
    "search_astar = BlindSearch(start=start_node, successor=successor, goal=goal,\n",
    "                           strategy=\"a*\", goal_state=goal_state, heuristic=heuristic)\n",
    "result_astar = search_astar.find()\n",
    "print(\"Camino A*:\", result_astar.getPath())"
   ]
  },
  {
   "cell_type": "markdown",
   "id": "a5be8828",
   "metadata": {},
   "source": [
    "## Síntesis de los resultados"
   ]
  },
  {
   "cell_type": "markdown",
   "id": "cf23157c",
   "metadata": {},
   "source": [
    "### Caminos obtenidos"
   ]
  },
  {
   "cell_type": "code",
   "execution_count": 8,
   "id": "f84a8f5c-add6-43b8-a312-388b111ae080",
   "metadata": {},
   "outputs": [
    {
     "data": {
      "image/png": "[encoded data removed]",
      "text/plain": [
       "<Figure size 640x480 with 1 Axes>"
      ]
     },
     "metadata": {},
     "output_type": "display_data"
    }
   ],
   "source": [
    "def show_multiple_paths(maze, paths_dict):\n",
    "    \"\"\"\n",
    "    paths_dict: diccionario con { \"BFS\": path_bfs, \"DFS\": path_dfs, \"A*\": path_astar }\n",
    "    \"\"\"\n",
    "    grid = np.array(maze)\n",
    "    plt.imshow(grid, cmap=\"binary\")\n",
    "\n",
    "    colors = {\"BFS\": \"red\", \"DFS\": \"blue\", \"A*\": \"green\"}\n",
    "    offsets = {\"BFS\": (-0.15, 0.15), \"DFS\": (0, 0), \"A*\": (0.15, -0.15)}\n",
    "\n",
    "    for name, path in paths_dict.items():\n",
    "        offset = offsets[name]\n",
    "        if path:\n",
    "            xs = [p[0][1] + offset[0] for p in path]\n",
    "            ys = [p[0][0] + offset[1] for p in path]\n",
    "            plt.plot(xs, ys, color=colors[name], linewidth=2, label=name)\n",
    "\n",
    "    plt.legend()\n",
    "    plt.show()\n",
    "\n",
    "\n",
    "# PARA MOSTRAR LOS TRES CAMINOS\n",
    "paths_dict = {\n",
    "    \"BFS\": result_bfs.getPath(),\n",
    "    \"DFS\": result_dfs.getPath(),\n",
    "    \"A*\": result_astar.getPath()\n",
    "}\n",
    "\n",
    "show_multiple_paths(maze, paths_dict)\n"
   ]
  },
  {
   "cell_type": "code",
   "execution_count": 9,
   "id": "d98884cd-0268-4558-9d1e-11052b635982",
   "metadata": {},
   "outputs": [
    {
     "data": {
      "image/png": "[encoded data removed]",
      "text/plain": [
       "<Figure size 1500x500 with 3 Axes>"
      ]
     },
     "metadata": {},
     "output_type": "display_data"
    }
   ],
   "source": [
    "def show_paths_separately(maze, paths_dict):\n",
    "    grid = np.array(maze)\n",
    "    fig, axes = plt.subplots(1, len(paths_dict), figsize=(15,5))\n",
    "\n",
    "    colors = {\"BFS\": \"red\", \"DFS\": \"blue\", \"A*\": \"green\"}\n",
    "    \n",
    "    for ax, (name, path) in zip(axes, paths_dict.items()):\n",
    "        ax.imshow(grid, cmap=\"binary\")\n",
    "        if path:\n",
    "            xs = [p[0][1] for p in path]\n",
    "            ys = [p[0][0] for p in path]\n",
    "            ax.plot(xs, ys, color=colors[name], linewidth=2)\n",
    "        ax.set_title(f\"Camino con {name}\")\n",
    "        ax.axis(\"off\")\n",
    "    \n",
    "    plt.show()\n",
    "\n",
    "\n",
    "\n",
    "paths_dict = {\n",
    "    \"BFS\": result_bfs.getPath(),\n",
    "    \"DFS\": result_dfs.getPath(),\n",
    "    \"A*\": result_astar.getPath()\n",
    "}\n",
    "\n",
    "show_paths_separately(maze, paths_dict)\n"
   ]
  },
  {
   "cell_type": "markdown",
   "id": "53752595",
   "metadata": {},
   "source": [
    "### Rendimiento de los caminos"
   ]
  },
  {
   "cell_type": "code",
   "execution_count": 10,
   "id": "49d029a7-51b0-4d98-b09f-9c53fb333bdc",
   "metadata": {},
   "outputs": [
    {
     "name": "stdout",
     "output_type": "stream",
     "text": [
      "finished in 51 iterations\n",
      "finished in 27 iterations\n",
      "finished in 26 iterations\n"
     ]
    },
    {
     "data": {
      "text/html": [
       "<div>\n",
       "<style scoped>\n",
       "    .dataframe tbody tr th:only-of-type {\n",
       "        vertical-align: middle;\n",
       "    }\n",
       "\n",
       "    .dataframe tbody tr th {\n",
       "        vertical-align: top;\n",
       "    }\n",
       "\n",
       "    .dataframe thead th {\n",
       "        text-align: right;\n",
       "    }\n",
       "</style>\n",
       "<table border=\"1\" class=\"dataframe\">\n",
       "  <thead>\n",
       "    <tr style=\"text-align: right;\">\n",
       "      <th></th>\n",
       "      <th>Estrategia</th>\n",
       "      <th>Tiempo (s)</th>\n",
       "      <th>Nodos expandidos</th>\n",
       "      <th>Longitud del camino</th>\n",
       "    </tr>\n",
       "  </thead>\n",
       "  <tbody>\n",
       "    <tr>\n",
       "      <th>0</th>\n",
       "      <td>bfs</td>\n",
       "      <td>0.001575</td>\n",
       "      <td>55</td>\n",
       "      <td>21</td>\n",
       "    </tr>\n",
       "    <tr>\n",
       "      <th>1</th>\n",
       "      <td>dfs</td>\n",
       "      <td>0.000179</td>\n",
       "      <td>32</td>\n",
       "      <td>27</td>\n",
       "    </tr>\n",
       "    <tr>\n",
       "      <th>2</th>\n",
       "      <td>a*</td>\n",
       "      <td>0.000195</td>\n",
       "      <td>30</td>\n",
       "      <td>21</td>\n",
       "    </tr>\n",
       "  </tbody>\n",
       "</table>\n",
       "</div>"
      ],
      "text/plain": [
       "  Estrategia  Tiempo (s)  Nodos expandidos  Longitud del camino\n",
       "0        bfs    0.001575                55                   21\n",
       "1        dfs    0.000179                32                   27\n",
       "2         a*    0.000195                30                   21"
      ]
     },
     "execution_count": 10,
     "metadata": {},
     "output_type": "execute_result"
    }
   ],
   "source": [
    "\n",
    "\n",
    "def run_search(strategy, heuristic=None):\n",
    "    start_node = node(state=start_state)\n",
    "    search = BlindSearch(start=start_node, successor=successor, goal=goal,\n",
    "                         strategy=strategy, goal_state=goal_state, heuristic=heuristic)\n",
    "    t0 = time.time()\n",
    "    result = search.find()\n",
    "    t1 = time.time()\n",
    "    elapsed = t1 - t0\n",
    "    path = result.getPath()\n",
    "    return {\n",
    "        \"Estrategia\": strategy,\n",
    "        \"Tiempo (s)\": round(elapsed, 6),\n",
    "        \"Nodos expandidos\": len(search.visited),\n",
    "        \"Longitud del camino\": len(path)\n",
    "    }\n",
    "\n",
    "results = []\n",
    "results.append(run_search(\"bfs\"))\n",
    "results.append(run_search(\"dfs\"))\n",
    "results.append(run_search(\"a*\", heuristic=heuristic))\n",
    "\n",
    "df_results = pd.DataFrame(results)\n",
    "df_results\n"
   ]
  },
  {
   "cell_type": "markdown",
   "id": "526dfe55",
   "metadata": {},
   "source": [
    "# Conclusiones\n",
    "- Debido a que la distnacia Manhattan captura mejor los movimientos del agente en el mapa, esta es una mejor representación que la distancia diagonal, que usa un movimiento un poco \" más imposible\" de moverse en diagonal en un solo movimiento.\n",
    "- Además, la distancia Manhattan es mejor heurística porque da siempre valores mayores y más cercanos a los reales que les tomaría al agente para llegar al destino.\n",
    "- Adicionalmente, dado que los laberintos de prueba son circuitos en donde existe únicamente un solo camino entre un nodo y otro, es posible usar algoritmos para Árboles Recubridores Mínimo para diseñar los caminos de prueba."
   ]
  }
 ],
 "metadata": {
  "kernelspec": {
   "display_name": "ai",
   "language": "python",
   "name": "python3"
  },
  "language_info": {
   "codemirror_mode": {
    "name": "ipython",
    "version": 3
   },
   "file_extension": ".py",
   "mimetype": "text/x-python",
   "name": "python",
   "nbconvert_exporter": "python",
   "pygments_lexer": "ipython3",
   "version": "3.12.11"
  }
 },
 "nbformat": 4,
 "nbformat_minor": 5
}
