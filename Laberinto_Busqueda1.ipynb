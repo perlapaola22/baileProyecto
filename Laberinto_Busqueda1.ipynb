{
 "cells": [
  {
   "cell_type": "markdown",
   "id": "b92ec26e",
   "metadata": {},
   "source": [
    "# JaSP: un simple pathfinder aplicado a laberintos\n",
    "\n",
    "<p style=\"text-align:center;\">\n",
    "<b>Inteligencia Artificial<br>\n",
    "Facultad de Ingeniería Eléctrica</b>\n",
    "</p>\n",
    "\n",
    "**INTEGRANTES DEL EQUIPO**\n",
    "- GUSTAVO ALONSO ANAYA MORENO (2001284f@umich.mx)\n",
    "- AARON URIEL GUZMAN CARDOSO (2100554h@umich.mx)\n",
    "- PERLA PAOLA PANTALEON BEDOLLA (2001285b@umich.mx)"
   ]
  },
  {
   "cell_type": "markdown",
   "id": "c1b7550f",
   "metadata": {},
   "source": [
    "# Introducción\n",
    "\n",
    "## El problema\n",
    "Buscamos encontrar una ruta válida desde $\\mathbf{a}$ hasta $\\mathbf{b}$, tomando en cuenta solo caminos posibles para el agente de IA. Este tendrá un espacio representado por una matriz binaria $\\mathbf{M}$ de $m$ por $n$, tal que el valor de cada celda corresponde a la expresión booleana \"**No es posible atravesar la celda sin encontrar un obstáculo**\".  \n",
    "### Estado\n",
    "#### Almacenamiento\n",
    "Para la resolución de este problema tenemos los siguientes constructos para el almacenamiento del **estado** del problema:\n",
    "- Posición del agente en la iteración $i$: \n",
    "$$\n",
    "\\mathbf{p}_i =\n",
    "\\begin{bmatrix}\n",
    "x_i \\\\\n",
    "y_i \\\\\n",
    "\\end{bmatrix}\n",
    "$$\n",
    "- El vector de posición inicial $\\mathbf{a}$.\n",
    "- El vector de posición meta $\\mathbf{b}$ del agente.\n",
    "\n",
    "#### Manipulación\n",
    "Como deseamos manipular $\\mathbf{p}$ durante iteraciones progresivas hemos definido al operador sucesor como:  \n",
    "$$S_i = \\text{Succ}(\\mathbf{p}_i) \\subseteq D$$\n",
    "Tal que todo elemento de $S_i$ cumpla con \"**ser una celda dentro de los confines de la matriz, que esta sea un camino libre, y que este pertenezca a $D$**\". Aquí $D$ es el conjunto de todas las traslaciones que **pueden** ser válidas para el vector $\\mathbf{p}$, en este caso se trata de un vecindario von Neumann:  \n",
    "$$D = \\{\\mathbf{d}_{\\text{up}}, \\mathbf{d}_{\\text{down}}, \\mathbf{d}_{\\text{left}}, \\mathbf{d}_{\\text{right}} \\}$$\n",
    "\n",
    "#### Condición de meta\n",
    "La condición de meta será simplemente que $\\mathbf{p}_i = \\mathbf{b}$\n",
    "\n",
    "#### Heurística\n",
    "La heurística considerada para el método **A\\*** será la distancia Manhattan, ya que esta representa adecuadamente los movimientos posibles para el agente (arriba, abajo, izquierda y derecha pero no diagonales). \n",
    "$$ h(x_i,y_i) = | b_1 - x_i| + |b_2 - y_i|$$\n",
    "Siendo que:\n",
    "- $b_1$ y $b_2$ son las posiciones meta.\n",
    "- $x_i$ y $y_i$ son las posiciones de la iteración $i$.\n",
    "\n",
    "##### Admisibilidad de la Herurística\n",
    "Nunca sobreestima el costo real de llegar a la meta. En un laberinto de cuadrícula, el camino más corto siempre será igual o mayor que la suma de las distancias horizontales y verticales.\n"
   ]
  },
  {
   "cell_type": "markdown",
   "id": "04370f99",
   "metadata": {},
   "source": [
    "## Propuesta de solución\n",
    "Dado el problema se realizará su planteamiento y solución en Python con ayuda de la biblioteca incluida en este mismo repositorio [SimpleSearch](https://github.com/kyriox/baile/blob/master/src/SimpleSearch.py), para realizar así búsqueda no informada (BFS, DFS) y búsqueda informada (A\\*).  \n",
    "La resolución inicialmente solo se restringirá a laberintos arbitrarios hechos con el algoritmo de Kruskal, en donde solo habrá un único camino solución. La creación de entornos más complicados queda pendiente de desarrollar para una futura entrega."
   ]
  },
  {
   "cell_type": "markdown",
   "id": "2dba6eaa",
   "metadata": {},
   "source": [
    "### Algoritmo de Kruskal"
   ]
  },
  {
   "cell_type": "code",
   "execution_count": 180,
   "id": "4ae73b5f",
   "metadata": {},
   "outputs": [],
   "source": [
    "from itertools import groupby\n",
    "from typing import Any, List, Tuple, Union, Literal\n",
    "import random\n",
    "from numpy import ndarray\n",
    "\n",
    "def kruskal(\n",
    "        edges: List[Tuple[Union[int, float], Any, Any]],\n",
    "        tie_break: Literal[\"random\"] = \"random\",\n",
    "        random_seed: int = 42\n",
    "    ) -> List[Tuple[Union[int, float], Any, Any]]:\n",
    "    edge_weight_groups = [\n",
    "        (weight, list(group))\n",
    "        for weight, group in groupby(\n",
    "            sorted(edges, key=lambda x: x[0]),\n",
    "            key=lambda x: x[0]\n",
    "        )\n",
    "    ]\n",
    "    if tie_break == \"random\":\n",
    "        random.seed(random_seed)\n",
    "        for _, group in edge_weight_groups:\n",
    "            random.shuffle(group)\n",
    "    parent = {}\n",
    "    rank = {}\n",
    "\n",
    "    def find(node):\n",
    "        if parent[node] != node:\n",
    "            parent[node] = find(parent[node])\n",
    "        return parent[node]\n",
    "\n",
    "    def union(node1, node2):\n",
    "        root1 = find(node1)\n",
    "        root2 = find(node2)\n",
    "        if root1 != root2:\n",
    "            if rank[root1] > rank[root2]:\n",
    "                parent[root2] = root1\n",
    "            elif rank[root1] < rank[root2]:\n",
    "                parent[root1] = root2\n",
    "            else:\n",
    "                parent[root2] = root1\n",
    "                rank[root1] += 1\n",
    "            return True  # Unión realizada\n",
    "        return False  # Ya estaban en el mismo conjunto\n",
    "\n",
    "    nodes = set()\n",
    "    for weight, u, v in edges:\n",
    "        nodes.update([u, v])\n",
    "    \n",
    "    for node in nodes:\n",
    "        parent[node] = node\n",
    "        rank[node] = 0\n",
    "\n",
    "    mst = []\n",
    "    for weight, edge_group in edge_weight_groups:\n",
    "        for (_, origin_node, dest_node) in edge_group:\n",
    "            if union(origin_node, dest_node):\n",
    "                mst.append((weight, origin_node, dest_node))\n",
    "                \n",
    "                # Terminamos si ya tenemos el MST completo\n",
    "                if len(mst) == len(nodes) - 1:\n",
    "                    return mst\n",
    "\n",
    "    return mst"
   ]
  },
  {
   "cell_type": "markdown",
   "id": "b147ed8a",
   "metadata": {},
   "source": [
    "### Creador de laberintos de prueba"
   ]
  },
  {
   "cell_type": "code",
   "execution_count": 181,
   "id": "507b0dfa",
   "metadata": {},
   "outputs": [],
   "source": [
    "from itertools import groupby\n",
    "from typing import Any, List, Tuple, Union, Literal\n",
    "import random\n",
    "import numpy as np\n",
    "from numpy.typing import NDArray\n",
    "\n",
    "def maze_builder(\n",
    "        m: int, n: int, random_seed: int = 42,\n",
    "        extra_paths_ratio: float = 0.1\n",
    "    ) -> Tuple[\n",
    "        NDArray[np.int_], Tuple[int, int], Tuple[int, int]\n",
    "    ]:\n",
    "    random.seed(random_seed)\n",
    "    \n",
    "    # Dimensionalidad impar para hacer bien el laberinto\n",
    "    if m % 2 == 0:\n",
    "        m += 1\n",
    "    if n % 2 == 0:\n",
    "        n += 1\n",
    "    \n",
    "    # Crear laberinto lleno de paredes\n",
    "    maze = np.ones((m, n), dtype=np.int_)\n",
    "    \n",
    "    # Crear tabla de nodos con posiciones impares\n",
    "    node_table = {}\n",
    "    nodes = []\n",
    "    for i in range(1, m, 2):\n",
    "        for j in range(1, n, 2):\n",
    "            node_table[(i, j)] = (i, j)\n",
    "            nodes.append((i, j))\n",
    "            maze[i, j] = 0\n",
    "    \n",
    "    all_edges = []\n",
    "    for i in range(1, m, 2):\n",
    "        for j in range(1, n, 2):\n",
    "            current_node = node_table[(i, j)]\n",
    "            \n",
    "            # Conexión hacia abajo: (i,j) → (i+2,j)\n",
    "            if i + 2 < m:\n",
    "                next_node = node_table[(i + 2, j)]\n",
    "                weight = random.random()\n",
    "                all_edges.append((weight, current_node, next_node))\n",
    "            \n",
    "            # Conexión hacia la derecha: (i,j) → (i,j+2)\n",
    "            if j + 2 < n:\n",
    "                next_node = node_table[(i, j + 2)]\n",
    "                weight = random.random()\n",
    "                all_edges.append((weight, current_node, next_node))\n",
    "    \n",
    "    mst = kruskal(all_edges.copy())\n",
    "    used_edges = set()\n",
    "    \n",
    "    # Cavar caminos del MST\n",
    "    for _, (x1, y1), (x2, y2) in mst:\n",
    "        wall_x, wall_y = (x1 + x2) // 2, (y1 + y2) // 2\n",
    "        maze[wall_x, wall_y] = 0\n",
    "        # Marcamos arista como usada\n",
    "        used_edges.add(frozenset([(x1, y1), (x2, y2)]))\n",
    "    \n",
    "    # Calculamos aristas no usados aún\n",
    "    remaining_edges = [\n",
    "        edge for edge in all_edges \n",
    "        if frozenset([edge[1], edge[2]]) not in used_edges\n",
    "    ]\n",
    "    \n",
    "    # Calcular cuántas aristas adicionales agregar\n",
    "    num_extra_edges = int(len(remaining_edges) * extra_paths_ratio)\n",
    "    \n",
    "    # Seleccionar aristas adicionales aleatoriamente\n",
    "    if num_extra_edges > 0:\n",
    "        random.shuffle(remaining_edges)\n",
    "        extra_edges = remaining_edges[:num_extra_edges]\n",
    "        \n",
    "        # Cavar caminos adicionales\n",
    "        for _, (x1, y1), (x2, y2) in extra_edges:\n",
    "            wall_x, wall_y = (x1 + x2) // 2, (y1 + y2) // 2\n",
    "            maze[wall_x, wall_y] = 0\n",
    "    \n",
    "    # Seleccionar inicio y fin en posiciones válidas\n",
    "    free_cells = [(i, j) for i in range(m) for j in range(n) if maze[i, j] == 0]\n",
    "    \n",
    "    if len(free_cells) >= 2:\n",
    "        start = free_cells[0]\n",
    "        end = free_cells[-1]\n",
    "    else:\n",
    "        start = (1, 1) if maze[1, 1] == 0 else (0, 0)\n",
    "        end = (m-2, n-2) if maze[m-2, n-2] == 0 else (m-1, n-1)\n",
    "    \n",
    "    return maze, start, end\n"
   ]
  },
  {
   "cell_type": "code",
   "execution_count": 182,
   "id": "f84a8f5c-add6-43b8-a312-388b111ae080",
   "metadata": {},
   "outputs": [],
   "source": [
    "def draw_maze(maze, start=None, end=None, paths_dict={}, separate_plots=False, figsize=(15, 5)):\n",
    "    import matplotlib.pyplot as plt\n",
    "    import numpy as np\n",
    "\n",
    "    colors = ['red', 'blue', 'green', 'orange', 'purple', 'brown', 'pink', 'gray', 'olive', 'cyan']\n",
    "\n",
    "    if separate_plots and paths_dict:\n",
    "        # Dibujar cada camino en subplot separado\n",
    "        fig, axes = plt.subplots(1, len(paths_dict), figsize=figsize)\n",
    "        if len(paths_dict) == 1:\n",
    "            axes = [axes]  # Manejar caso de un solo subplot\n",
    "            \n",
    "        for ax, ((name, path), color) in zip(axes, zip(paths_dict.items(), colors)):\n",
    "            grid = np.array(maze)\n",
    "            ax.imshow(grid, cmap=\"binary\")\n",
    "            \n",
    "            if start is not None: \n",
    "                ax.plot(start[1], start[0], marker='o', color='lime', markersize=10, \n",
    "                       markeredgecolor='black', markeredgewidth=2, label='Inicio')\n",
    "            if end is not None:\n",
    "                ax.plot(end[1], end[0], marker='X', color='red', markersize=12, \n",
    "                       markeredgecolor='black', markeredgewidth=2, label='Fin')\n",
    "            \n",
    "            # Dibujar el camino\n",
    "            if path:\n",
    "                xs = [p[0][1] for p in path]\n",
    "                ys = [p[0][0] for p in path]\n",
    "                ax.plot(xs, ys, color=color, linewidth=2, alpha=0.8)\n",
    "            \n",
    "            ax.set_title(name)\n",
    "            ax.axis(\"off\")\n",
    "        \n",
    "        plt.tight_layout()\n",
    "        plt.show()\n",
    "    \n",
    "    else:\n",
    "        # Dibujar todos los caminos en una sola gráfica\n",
    "        grid = np.array(maze)\n",
    "        plt.figure(figsize=(8, 8))\n",
    "        plt.imshow(grid, cmap=\"binary\")\n",
    "        \n",
    "        if start is not None: \n",
    "            plt.plot(start[1], start[0], marker='o', color='lime', markersize=12, \n",
    "                    markeredgecolor='black', markeredgewidth=2, label='Inicio', zorder=10)\n",
    "        if end is not None:\n",
    "            plt.plot(end[1], end[0], marker='X', color='red', markersize=14, \n",
    "                    markeredgecolor='black', markeredgewidth=2, label='Fin', zorder=10)\n",
    "        \n",
    "        # Calculo de offsets para caminos distinguibles\n",
    "        num_paths = len(paths_dict)\n",
    "        if num_paths > 1:\n",
    "            # Generar offsets en círculo para mejor distribución\n",
    "            import math\n",
    "            offsets = [\n",
    "                (0.2 * math.cos(2 * math.pi * i / num_paths), \n",
    "                 0.2 * math.sin(2 * math.pi * i / num_paths))\n",
    "                for i in range(num_paths)\n",
    "            ]\n",
    "        else:\n",
    "            offsets = [(0, 0)]\n",
    "        \n",
    "        # Dibujar cada camino con su color y offset\n",
    "        for (name, path), color, offset in zip(paths_dict.items(), colors, offsets):\n",
    "            if path:\n",
    "                xs = [p[0][1] + offset[0] for p in path]\n",
    "                ys = [p[0][0] + offset[1] for p in path]\n",
    "                plt.plot(xs, ys, color=color, linewidth=2, label=name, alpha=0.8)\n",
    "        \n",
    "        # Crear leyenda combinada\n",
    "        if paths_dict or start is not None or end is not None:\n",
    "            plt.legend(loc='upper right')\n",
    "        \n",
    "        plt.title(\"Laberinto\" + (\" con caminos\" if paths_dict else \"\"))\n",
    "        plt.axis(\"off\")\n",
    "        plt.show()"
   ]
  },
  {
   "cell_type": "code",
   "execution_count": 183,
   "id": "2c1e6c86",
   "metadata": {},
   "outputs": [
    {
     "data": {
      "image/png": "[encoded data removed]",
      "text/plain": [
       "<Figure size 1200x1200 with 4 Axes>"
      ]
     },
     "metadata": {},
     "output_type": "display_data"
    },
    {
     "name": "stdout",
     "output_type": "stream",
     "text": [
      "MST): 97 celdas libres de 225 (43.1% densidad)\n",
      "ratio=0.25: 106 celdas libres de 225 (47.1% densidad)\n",
      "ratio=0.5: 115 celdas libres de 225 (51.1% densidad)\n",
      "ratio=1.0: 107 celdas libres de 225 (47.6% densidad)\n"
     ]
    }
   ],
   "source": [
    "def maze_comparison(m: int, n: int, random_seed: int = 42):\n",
    "    \"\"\"\n",
    "    Crea variantes del mismo laberinto con diferentes números de caminos.\n",
    "    \"\"\"\n",
    "    variants = {\n",
    "        \"MST)\": maze_builder(m, n, random_seed, extra_paths_ratio=0.0),\n",
    "        \"ratio=0.25\": maze_builder(m, n, random_seed, extra_paths_ratio=0.25),\n",
    "        \"ratio=0.5\": maze_builder(m, n, random_seed, extra_paths_ratio=0.5),\n",
    "        \"ratio=1.0\": maze_builder(m, n, random_seed, extra_paths_ratio=0.3)\n",
    "    }\n",
    "    return variants\n",
    "\n",
    "import matplotlib.pyplot as plt\n",
    "\n",
    "# Crear variantes del laberinto\n",
    "variants = maze_comparison(15, 15, random_seed=42)\n",
    "\n",
    "# Mostrar las variantes en subplots\n",
    "fig, axes = plt.subplots(2, 2, figsize=(12, 12))\n",
    "axes = axes.flatten()\n",
    "\n",
    "for idx, (name, (maze_var, start_var, end_var)) in enumerate(variants.items()):\n",
    "    ax = axes[idx]\n",
    "    ax.imshow(np.array(maze_var), cmap=\"binary\")\n",
    "    \n",
    "    # Dibujar puntos de inicio y final\n",
    "    ax.plot(start_var[1], start_var[0], marker='o', color='lime', markersize=8, \n",
    "           markeredgecolor='black', markeredgewidth=1)\n",
    "    ax.plot(end_var[1], end_var[0], marker='X', color='red', markersize=10, \n",
    "           markeredgecolor='black', markeredgewidth=1)\n",
    "    \n",
    "    ax.set_title(f\"{name}\")\n",
    "    ax.axis(\"off\")\n",
    "\n",
    "plt.tight_layout()\n",
    "plt.show()\n",
    "\n",
    "# Información sobre la complejidad\n",
    "for name, (maze_var, start_var, end_var) in variants.items():\n",
    "    free_cells = np.sum(maze_var == 0)\n",
    "    total_cells = maze_var.size\n",
    "    density = free_cells / total_cells\n",
    "    print(f\"{name}: {free_cells} celdas libres de {total_cells} ({density:.1%} densidad)\")"
   ]
  },
  {
   "cell_type": "markdown",
   "id": "41b1009a",
   "metadata": {},
   "source": [
    "## Desarrollo"
   ]
  },
  {
   "cell_type": "markdown",
   "id": "ede2d72b",
   "metadata": {},
   "source": [
    "### Creación del entorno y metas"
   ]
  },
  {
   "cell_type": "code",
   "execution_count": 184,
   "id": "9b006462",
   "metadata": {},
   "outputs": [],
   "source": [
    "\n",
    "from src.SimpleSearch import node, BlindSearch\n",
    "import matplotlib.pyplot as plt\n",
    "import numpy as np\n",
    "import time\n",
    "import pandas as pd"
   ]
  },
  {
   "cell_type": "code",
   "execution_count": 185,
   "id": "9a7db205",
   "metadata": {},
   "outputs": [
    {
     "name": "stdout",
     "output_type": "stream",
     "text": [
      "Inicio: (1, 1), Fin: (21, 21)\n"
     ]
    },
    {
     "data": {
      "image/png": "[encoded data removed]",
      "text/plain": [
       "<Figure size 800x800 with 1 Axes>"
      ]
     },
     "metadata": {},
     "output_type": "display_data"
    }
   ],
   "source": [
    "maze = [\n",
    "    [0,0,1,0,0,0,1,0,0,0],\n",
    "    [1,0,1,0,1,0,1,0,1,0],\n",
    "    [0,0,0,0,1,0,0,0,1,0],\n",
    "    [0,1,1,1,1,1,1,0,1,0],\n",
    "    [0,0,0,0,0,0,1,0,1,0],\n",
    "    [1,1,1,1,1,0,1,0,1,0],\n",
    "    [0,0,0,0,1,0,0,0,1,0],\n",
    "    [0,1,1,0,1,0,1,1,1,0],\n",
    "    [0,0,0,0,0,0,0,0,0,0],\n",
    "    [1,1,1,1,1,1,1,1,1,0]\n",
    "]\n",
    "\n",
    "start_state = (0,0)   \n",
    "goal_state  = (9,9)   \n",
    "\n",
    "maze, start_state, goal_state = maze_builder(23, 23, random_seed=42, extra_paths_ratio=0.4)\n",
    "print(f\"Inicio: {start_state}, Fin: {goal_state}\")\n",
    "draw_maze(maze, start_state, goal_state)"
   ]
  },
  {
   "cell_type": "markdown",
   "id": "26aeba4b",
   "metadata": {},
   "source": [
    "### Funciones que alteran el estado del problema"
   ]
  },
  {
   "cell_type": "code",
   "execution_count": 186,
   "id": "5bdd2743",
   "metadata": {},
   "outputs": [],
   "source": [
    "MOVES = {\n",
    "    \"up\": (-1,0),\n",
    "    \"down\": (1,0),\n",
    "    \"left\": (0,-1),\n",
    "    \"right\": (0,1)\n",
    "}\n",
    "\n",
    "def successor(n):\n",
    "    x, y = n.state\n",
    "    valid = lambda nx, ny: 0 <= nx < len(maze) and 0 <= ny < len(maze[0]) and maze[nx][ny] == 0\n",
    "    successors = [\n",
    "        node(state=(x+dx, y+dy), parent=n, depth=n.depth+1, op=action)\n",
    "        for action, (dx, dy) in MOVES.items()\n",
    "        if valid(x+dx, y+dy)\n",
    "    ]\n",
    "    return successors\n",
    "\n",
    "def goal(n, goal_state):\n",
    "    return n.state == goal_state\n",
    "\n",
    "def heuristic(n, goal_state):\n",
    "    (x1,y1) = n.state\n",
    "    (x2,y2) = goal_state\n",
    "    return abs(x1-x2) + abs(y1-y2)\n"
   ]
  },
  {
   "cell_type": "markdown",
   "id": "bee1a8c4",
   "metadata": {},
   "source": [
    "### Búsquedas"
   ]
  },
  {
   "cell_type": "markdown",
   "id": "67c5205a",
   "metadata": {},
   "source": [
    "Definimos el camino de inicio para todas las búsquedas a través de un nodo de `SimpleSearch`."
   ]
  },
  {
   "cell_type": "code",
   "execution_count": 187,
   "id": "bc6601be",
   "metadata": {},
   "outputs": [],
   "source": [
    "\n",
    "start_node = node(state=start_state)"
   ]
  },
  {
   "cell_type": "markdown",
   "id": "e9b99ab1",
   "metadata": {},
   "source": [
    "Con un laberinto de múltiples caminos, podremos observar las diferencias reales entre los algoritmos de búsqueda. BFS debería encontrar el camino óptimo, DFS puede encontrar un camino subóptimo pero más rápidamente, y A* debería encontrar el camino óptimo de manera más eficiente que BFS."
   ]
  },
  {
   "cell_type": "markdown",
   "id": "6aff543b",
   "metadata": {},
   "source": [
    "#### Breadth First Search"
   ]
  },
  {
   "cell_type": "code",
   "execution_count": 188,
   "id": "30db7364",
   "metadata": {},
   "outputs": [
    {
     "name": "stdout",
     "output_type": "stream",
     "text": [
      "finished in 281 iterations\n",
      "Camino BFS: [((1, 1), '', 0), ((1, 2), 'right', 1), ((1, 3), 'right', 2), ((2, 3), 'down', 3), ((3, 3), 'down', 4), ((4, 3), 'down', 5), ((5, 3), 'down', 6), ((6, 3), 'down', 7), ((7, 3), 'down', 8), ((8, 3), 'down', 9), ((9, 3), 'down', 10), ((10, 3), 'down', 11), ((11, 3), 'down', 12), ((12, 3), 'down', 13), ((13, 3), 'down', 14), ((14, 3), 'down', 15), ((15, 3), 'down', 16), ((15, 4), 'right', 17), ((15, 5), 'right', 18), ((15, 6), 'right', 19), ((15, 7), 'right', 20), ((15, 8), 'right', 21), ((15, 9), 'right', 22), ((15, 10), 'right', 23), ((15, 11), 'right', 24), ((15, 12), 'right', 25), ((15, 13), 'right', 26), ((16, 13), 'down', 27), ((17, 13), 'down', 28), ((17, 14), 'right', 29), ((17, 15), 'right', 30), ((17, 16), 'right', 31), ((17, 17), 'right', 32), ((18, 17), 'down', 33), ((19, 17), 'down', 34), ((20, 17), 'down', 35), ((21, 17), 'down', 36), ((21, 18), 'right', 37), ((21, 19), 'right', 38), ((21, 20), 'right', 39), ((21, 21), 'right', 40)]\n"
     ]
    }
   ],
   "source": [
    "search_bfs = BlindSearch(start=start_node, successor=successor, goal=goal, strategy=\"bfs\", goal_state=goal_state)\n",
    "result_bfs = search_bfs.find()\n",
    "print(\"Camino BFS:\", result_bfs.getPath())"
   ]
  },
  {
   "cell_type": "markdown",
   "id": "fa78b3cb",
   "metadata": {},
   "source": [
    "#### Depth First Search"
   ]
  },
  {
   "cell_type": "code",
   "execution_count": 189,
   "id": "5fb554d8",
   "metadata": {},
   "outputs": [
    {
     "name": "stdout",
     "output_type": "stream",
     "text": [
      "finished in 77 iterations\n",
      "Camino DFS: [((1, 1), '', 0), ((1, 2), 'right', 1), ((1, 3), 'right', 2), ((1, 4), 'right', 3), ((1, 5), 'right', 4), ((2, 5), 'down', 5), ((3, 5), 'down', 6), ((3, 6), 'right', 7), ((3, 7), 'right', 8), ((3, 8), 'right', 9), ((3, 9), 'right', 10), ((3, 10), 'right', 11), ((3, 11), 'right', 12), ((2, 11), 'up', 13), ((1, 11), 'up', 14), ((1, 12), 'right', 15), ((1, 13), 'right', 16), ((2, 13), 'down', 17), ((3, 13), 'down', 18), ((3, 14), 'right', 19), ((3, 15), 'right', 20), ((4, 15), 'down', 21), ((5, 15), 'down', 22), ((6, 15), 'down', 23), ((7, 15), 'down', 24), ((7, 16), 'right', 25), ((7, 17), 'right', 26), ((7, 18), 'right', 27), ((7, 19), 'right', 28), ((8, 19), 'down', 29), ((9, 19), 'down', 30), ((9, 20), 'right', 31), ((9, 21), 'right', 32), ((10, 21), 'down', 33), ((11, 21), 'down', 34), ((11, 20), 'left', 35), ((11, 19), 'left', 36), ((11, 18), 'left', 37), ((11, 17), 'left', 38), ((12, 17), 'down', 39), ((13, 17), 'down', 40), ((14, 17), 'down', 41), ((15, 17), 'down', 42), ((15, 18), 'right', 43), ((15, 19), 'right', 44), ((16, 19), 'down', 45), ((17, 19), 'down', 46), ((17, 20), 'right', 47), ((17, 21), 'right', 48), ((18, 21), 'down', 49), ((19, 21), 'down', 50), ((19, 20), 'left', 51), ((19, 19), 'left', 52), ((20, 19), 'down', 53), ((21, 19), 'down', 54), ((21, 20), 'right', 55), ((21, 21), 'right', 56)]\n"
     ]
    }
   ],
   "source": [
    "search_dfs = BlindSearch(start=start_node, successor=successor, goal=goal, strategy=\"dfs\", goal_state=goal_state)\n",
    "result_dfs = search_dfs.find()\n",
    "print(\"Camino DFS:\", result_dfs.getPath())"
   ]
  },
  {
   "cell_type": "markdown",
   "id": "70b5c5c2",
   "metadata": {},
   "source": [
    "Con múltiples caminos disponibles, DFS puede explorar rutas muy largas antes de encontrar la meta, demostrando por qué no es óptimo para encontrar la ruta más corta."
   ]
  },
  {
   "cell_type": "markdown",
   "id": "dd877928",
   "metadata": {},
   "source": [
    "#### Búsqueda A\\*"
   ]
  },
  {
   "cell_type": "code",
   "execution_count": 190,
   "id": "0f8a44ad",
   "metadata": {},
   "outputs": [
    {
     "name": "stdout",
     "output_type": "stream",
     "text": [
      "finished in 166 iterations\n",
      "Camino A*: [((1, 1), '', 0), ((1, 2), 'right', 1), ((1, 3), 'right', 2), ((2, 3), 'down', 3), ((3, 3), 'down', 4), ((3, 4), 'right', 5), ((3, 5), 'right', 6), ((4, 5), 'down', 7), ((5, 5), 'down', 8), ((5, 6), 'right', 9), ((5, 7), 'right', 10), ((6, 7), 'down', 11), ((7, 7), 'down', 12), ((7, 8), 'right', 13), ((7, 9), 'right', 14), ((7, 10), 'right', 15), ((7, 11), 'right', 16), ((8, 11), 'down', 17), ((9, 11), 'down', 18), ((10, 11), 'down', 19), ((11, 11), 'down', 20), ((11, 12), 'right', 21), ((11, 13), 'right', 22), ((12, 13), 'down', 23), ((13, 13), 'down', 24), ((14, 13), 'down', 25), ((15, 13), 'down', 26), ((16, 13), 'down', 27), ((17, 13), 'down', 28), ((17, 14), 'right', 29), ((17, 15), 'right', 30), ((17, 16), 'right', 31), ((17, 17), 'right', 32), ((18, 17), 'down', 33), ((19, 17), 'down', 34), ((20, 17), 'down', 35), ((21, 17), 'down', 36), ((21, 18), 'right', 37), ((21, 19), 'right', 38), ((21, 20), 'right', 39), ((21, 21), 'right', 40)]\n"
     ]
    }
   ],
   "source": [
    "search_astar = BlindSearch(start=start_node, successor=successor, goal=goal,\n",
    "                           strategy=\"a*\", goal_state=goal_state, heuristic=heuristic)\n",
    "result_astar = search_astar.find()\n",
    "print(\"Camino A*:\", result_astar.getPath())"
   ]
  },
  {
   "cell_type": "markdown",
   "id": "a5be8828",
   "metadata": {},
   "source": [
    "## Síntesis de los resultados"
   ]
  },
  {
   "cell_type": "markdown",
   "id": "cf23157c",
   "metadata": {},
   "source": [
    "### Caminos obtenidos"
   ]
  },
  {
   "cell_type": "code",
   "execution_count": 191,
   "id": "d98884cd-0268-4558-9d1e-11052b635982",
   "metadata": {},
   "outputs": [
    {
     "data": {
      "image/png": "[encoded data removed]",
      "text/plain": [
       "<Figure size 800x800 with 1 Axes>"
      ]
     },
     "metadata": {},
     "output_type": "display_data"
    },
    {
     "data": {
      "image/png": "[encoded data removed]",
      "text/plain": [
       "<Figure size 1500x500 with 3 Axes>"
      ]
     },
     "metadata": {},
     "output_type": "display_data"
    }
   ],
   "source": [
    "draw_maze(maze, start_state, goal_state, {\n",
    "    \"BFS\": result_bfs.getPath(),\n",
    "    \"DFS\": result_dfs.getPath(),\n",
    "    \"A*\": result_astar.getPath()\n",
    "})\n",
    "\n",
    "draw_maze(maze, start_state, goal_state, {\n",
    "    \"BFS\": result_bfs.getPath(),\n",
    "    \"DFS\": result_dfs.getPath(),\n",
    "    \"A*\": result_astar.getPath()\n",
    "}, separate_plots=True)"
   ]
  },
  {
   "cell_type": "markdown",
   "id": "53752595",
   "metadata": {},
   "source": [
    "### Rendimiento de los caminos"
   ]
  },
  {
   "cell_type": "code",
   "execution_count": 192,
   "id": "49d029a7-51b0-4d98-b09f-9c53fb333bdc",
   "metadata": {},
   "outputs": [
    {
     "name": "stdout",
     "output_type": "stream",
     "text": [
      "finished in 281 iterations\n",
      "finished in 77 iterations\n",
      "finished in 166 iterations\n"
     ]
    },
    {
     "data": {
      "text/html": [
       "<div>\n",
       "<style scoped>\n",
       "    .dataframe tbody tr th:only-of-type {\n",
       "        vertical-align: middle;\n",
       "    }\n",
       "\n",
       "    .dataframe tbody tr th {\n",
       "        vertical-align: top;\n",
       "    }\n",
       "\n",
       "    .dataframe thead th {\n",
       "        text-align: right;\n",
       "    }\n",
       "</style>\n",
       "<table border=\"1\" class=\"dataframe\">\n",
       "  <thead>\n",
       "    <tr style=\"text-align: right;\">\n",
       "      <th></th>\n",
       "      <th>Estrategia</th>\n",
       "      <th>Tiempo (s)</th>\n",
       "      <th>Nodos expandidos</th>\n",
       "      <th>Longitud del camino</th>\n",
       "    </tr>\n",
       "  </thead>\n",
       "  <tbody>\n",
       "    <tr>\n",
       "      <th>0</th>\n",
       "      <td>bfs</td>\n",
       "      <td>0.004911</td>\n",
       "      <td>281</td>\n",
       "      <td>41</td>\n",
       "    </tr>\n",
       "    <tr>\n",
       "      <th>1</th>\n",
       "      <td>dfs</td>\n",
       "      <td>0.001209</td>\n",
       "      <td>96</td>\n",
       "      <td>57</td>\n",
       "    </tr>\n",
       "    <tr>\n",
       "      <th>2</th>\n",
       "      <td>a*</td>\n",
       "      <td>0.002110</td>\n",
       "      <td>196</td>\n",
       "      <td>41</td>\n",
       "    </tr>\n",
       "  </tbody>\n",
       "</table>\n",
       "</div>"
      ],
      "text/plain": [
       "  Estrategia  Tiempo (s)  Nodos expandidos  Longitud del camino\n",
       "0        bfs    0.004911               281                   41\n",
       "1        dfs    0.001209                96                   57\n",
       "2         a*    0.002110               196                   41"
      ]
     },
     "execution_count": 192,
     "metadata": {},
     "output_type": "execute_result"
    }
   ],
   "source": [
    "\n",
    "\n",
    "def run_search(strategy, heuristic=None):\n",
    "    start_node = node(state=start_state)\n",
    "    search = BlindSearch(start=start_node, successor=successor, goal=goal,\n",
    "                         strategy=strategy, goal_state=goal_state, heuristic=heuristic)\n",
    "    t0 = time.time()\n",
    "    result = search.find()\n",
    "    t1 = time.time()\n",
    "    elapsed = t1 - t0\n",
    "    path = result.getPath()\n",
    "    return {\n",
    "        \"Estrategia\": strategy,\n",
    "        \"Tiempo (s)\": round(elapsed, 6),\n",
    "        \"Nodos expandidos\": len(search.visited),\n",
    "        \"Longitud del camino\": len(path)\n",
    "    }\n",
    "\n",
    "results = []\n",
    "results.append(run_search(\"bfs\"))\n",
    "results.append(run_search(\"dfs\"))\n",
    "results.append(run_search(\"a*\", heuristic=heuristic))\n",
    "\n",
    "df_results = pd.DataFrame(results)\n",
    "df_results\n"
   ]
  },
  {
   "cell_type": "markdown",
   "id": "526dfe55",
   "metadata": {},
   "source": [
    "# Conclusiones\n",
    "\n",
    "## Algoritmos de Búsqueda\n",
    "- **BFS (Breadth-First Search)**: Garantiza encontrar el camino óptimo (menor número de pasos) pero explora muchos nodos innecesarios.\n",
    "- **DFS (Depth-First Search)**: No garantiza optimalidad y puede encontrar caminos muy largos, especialmente en laberintos con múltiples rutas.\n",
    "- **A\\* (A-star)**: Es capaz de encontrar un camino óptimo o casi óptimo tal como BFS pero explora menos nodos gracias a la heurística Manhattan.\n",
    "\n",
    "## Heurística Manhattan\n",
    "- La distancia Manhattan es ideal para laberintos de cuadrícula porque refleja exactamente los movimientos posibles (arriba, abajo, izquierda, derecha).\n",
    "- Es **admisible** porque nunca sobreestima el costo real - la distancia real siempre será mayor o igual a la distancia Manhattan.\n",
    "- Permite que A* sea tanto **óptimo** como **eficiente**.\n",
    "\n",
    "## Generación de Laberintos\n",
    "- **MST puro**: Crea laberintos con exactamente un camino entre cualquier par de puntos.\n",
    "- **MST + aristas adicionales**: Permite crear laberintos con múltiples caminos, ideales para comparar algoritmos de búsqueda.\n",
    "- El parámetro `extra_paths_ratio` controla la complejidad: 0.0 = un solo camino, 0.3 = muchos caminos alternativos.\n",
    "- Aunque si generamos más caminos estos no son tan atractivos visualmente, con coeficientes altos se termina más bien creando muchos ciclos pequeños sin caminos alternativos largos.\n",
    "\n",
    "## Ventajas de Múltiples Caminos\n",
    "- Permite evaluar la **eficiencia** real de cada algoritmo de búsqueda.\n",
    "- A* demuestra su superioridad al encontrar caminos óptimos con menos exploración.\n",
    "- Los laberintos se vuelven más realistas y desafiantes para los algoritmos."
   ]
  }
 ],
 "metadata": {
  "kernelspec": {
   "display_name": "ai",
   "language": "python",
   "name": "python3"
  },
  "language_info": {
   "codemirror_mode": {
    "name": "ipython",
    "version": 3
   },
   "file_extension": ".py",
   "mimetype": "text/x-python",
   "name": "python",
   "nbconvert_exporter": "python",
   "pygments_lexer": "ipython3",
   "version": "3.12.11"
  }
 },
 "nbformat": 4,
 "nbformat_minor": 5
}
