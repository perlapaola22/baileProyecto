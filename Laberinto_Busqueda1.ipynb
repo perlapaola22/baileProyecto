{
 "cells": [
  {
   "cell_type": "markdown",
   "id": "64f83d4f",
   "metadata": {},
   "source": [
    "**INTEGRANTES DEL EQUIPO**\n",
    "- GUSTAVO ALONSO ANAYA MORENO\n",
    "- ARON URIEL GUZMAN CARDOSO\n",
    "- PERLA PAOLA PANTALEON BEDOLLA"
   ]
  },
  {
   "cell_type": "markdown",
   "id": "c1b7550f",
   "metadata": {},
   "source": [
    "\n",
    "# Proyecto de búsqueda en laberinto con la librería baile\n",
    "\n",
    "---\n",
    "## 1. Definición  del problema\n",
    "\n",
    "- **Estado**: Una tupla `(fila, columna)` que indica la posición actual en el laberinto.  \n",
    "- **Operador sucesor**: Desde un estado, se puede mover en 4 direcciones (arriba, abajo, izquierda, derecha), siempre que la celda no sea pared.  \n",
    "- **Estado meta**: Una celda de salida definida previamente.  \n",
    "- **Heurística**: Distancia de Manhattan entre el estado actual y la meta.  \n"
   ]
  },
  {
   "cell_type": "code",
   "execution_count": 16,
   "id": "9b006462",
   "metadata": {},
   "outputs": [],
   "source": [
    "\n",
    "from src.SimpleSearch import node, BlindSearch\n",
    "import matplotlib.pyplot as plt\n",
    "import numpy as np\n",
    "import time\n",
    "import pandas as pd"
   ]
  },
  {
   "cell_type": "markdown",
   "id": "41b1009a",
   "metadata": {},
   "source": [
    "## 2. Definición del Laberinto"
   ]
  },
  {
   "cell_type": "code",
   "execution_count": 17,
   "id": "9a7db205",
   "metadata": {},
   "outputs": [],
   "source": [
    "maze = [\n",
    "    [0,0,1,0,0,0,1,0,0,0],\n",
    "    [1,0,1,0,1,0,1,0,1,0],\n",
    "    [0,0,0,0,1,0,0,0,1,0],\n",
    "    [0,1,1,1,1,1,1,0,1,0],\n",
    "    [0,0,0,0,0,0,1,0,1,0],\n",
    "    [1,1,1,1,1,0,1,0,1,0],\n",
    "    [0,0,0,0,1,0,0,0,1,0],\n",
    "    [0,1,1,0,1,0,1,1,1,0],\n",
    "    [0,0,0,0,0,0,0,0,0,0],\n",
    "    [1,1,1,1,1,1,1,1,1,0]\n",
    "]\n",
    "\n",
    "start_state = (0,0)   \n",
    "goal_state  = (9,9)   \n"
   ]
  },
  {
   "cell_type": "markdown",
   "id": "26aeba4b",
   "metadata": {},
   "source": [
    "## 3. Funciones del problema (sucesor, meta, heurística)"
   ]
  },
  {
   "cell_type": "code",
   "execution_count": 18,
   "id": "5bdd2743",
   "metadata": {},
   "outputs": [],
   "source": [
    "\n",
    "def successor(n):\n",
    "    moves = [(-1,0,\"UP\"), (1,0,\"DOWN\"), (0,-1,\"LEFT\"), (0,1,\"RIGHT\")]\n",
    "    successors = []\n",
    "    x, y = n.state\n",
    "    for dx, dy, action in moves:\n",
    "        nx, ny = x+dx, y+dy\n",
    "        if 0 <= nx < len(maze) and 0 <= ny < len(maze[0]) and maze[nx][ny] == 0:\n",
    "            new_n = node(state=(nx,ny), parent=n, depth=n.depth+1, op=action)\n",
    "            successors.append(new_n)\n",
    "    return successors\n",
    "\n",
    "def goal(n, goal_state):\n",
    "    return n.state == goal_state\n",
    "\n",
    "def heuristic(n, goal_state):\n",
    "    (x1,y1) = n.state\n",
    "    (x2,y2) = goal_state\n",
    "    return abs(x1-x2) + abs(y1-y2)\n"
   ]
  },
  {
   "cell_type": "markdown",
   "id": "bee1a8c4",
   "metadata": {},
   "source": [
    "## 4. Ejecución de búsquedas"
   ]
  },
  {
   "cell_type": "code",
   "execution_count": 19,
   "id": "bc6601be",
   "metadata": {},
   "outputs": [
    {
     "name": "stdout",
     "output_type": "stream",
     "text": [
      "finished in 51 iterations\n",
      "Camino BFS: [((0, 0), '', 0), ((0, 1), 'RIGHT', 1), ((1, 1), 'DOWN', 2), ((2, 1), 'DOWN', 3), ((2, 0), 'LEFT', 4), ((3, 0), 'DOWN', 5), ((4, 0), 'DOWN', 6), ((4, 1), 'RIGHT', 7), ((4, 2), 'RIGHT', 8), ((4, 3), 'RIGHT', 9), ((4, 4), 'RIGHT', 10), ((4, 5), 'RIGHT', 11), ((5, 5), 'DOWN', 12), ((6, 5), 'DOWN', 13), ((7, 5), 'DOWN', 14), ((8, 5), 'DOWN', 15), ((8, 6), 'RIGHT', 16), ((8, 7), 'RIGHT', 17), ((8, 8), 'RIGHT', 18), ((8, 9), 'RIGHT', 19), ((9, 9), 'DOWN', 20)]\n",
      "finished in 27 iterations\n",
      "Camino DFS: [((0, 0), '', 0), ((0, 1), 'RIGHT', 1), ((1, 1), 'DOWN', 2), ((2, 1), 'DOWN', 3), ((2, 2), 'RIGHT', 4), ((2, 3), 'RIGHT', 5), ((1, 3), 'UP', 6), ((0, 3), 'UP', 7), ((0, 4), 'RIGHT', 8), ((0, 5), 'RIGHT', 9), ((1, 5), 'DOWN', 10), ((2, 5), 'DOWN', 11), ((2, 6), 'RIGHT', 12), ((2, 7), 'RIGHT', 13), ((3, 7), 'DOWN', 14), ((4, 7), 'DOWN', 15), ((5, 7), 'DOWN', 16), ((6, 7), 'DOWN', 17), ((6, 6), 'LEFT', 18), ((6, 5), 'LEFT', 19), ((7, 5), 'DOWN', 20), ((8, 5), 'DOWN', 21), ((8, 6), 'RIGHT', 22), ((8, 7), 'RIGHT', 23), ((8, 8), 'RIGHT', 24), ((8, 9), 'RIGHT', 25), ((9, 9), 'DOWN', 26)]\n",
      "finished in 26 iterations\n",
      "Camino A*: [((0, 0), '', 0), ((0, 1), 'RIGHT', 1), ((1, 1), 'DOWN', 2), ((2, 1), 'DOWN', 3), ((2, 0), 'LEFT', 4), ((3, 0), 'DOWN', 5), ((4, 0), 'DOWN', 6), ((4, 1), 'RIGHT', 7), ((4, 2), 'RIGHT', 8), ((4, 3), 'RIGHT', 9), ((4, 4), 'RIGHT', 10), ((4, 5), 'RIGHT', 11), ((5, 5), 'DOWN', 12), ((6, 5), 'DOWN', 13), ((7, 5), 'DOWN', 14), ((8, 5), 'DOWN', 15), ((8, 6), 'RIGHT', 16), ((8, 7), 'RIGHT', 17), ((8, 8), 'RIGHT', 18), ((8, 9), 'RIGHT', 19), ((9, 9), 'DOWN', 20)]\n"
     ]
    }
   ],
   "source": [
    "\n",
    "start_node = node(state=start_state)\n",
    "\n",
    "#ALGORITOMO \n",
    "\n",
    "search_bfs = BlindSearch(start=start_node, successor=successor, goal=goal, strategy=\"bfs\", goal_state=goal_state)\n",
    "result_bfs = search_bfs.find()\n",
    "print(\"Camino BFS:\", result_bfs.getPath())\n",
    "\n",
    "#ALGORITMO DFS\n",
    "search_dfs = BlindSearch(start=start_node, successor=successor, goal=goal, strategy=\"dfs\", goal_state=goal_state)\n",
    "result_dfs = search_dfs.find()\n",
    "print(\"Camino DFS:\", result_dfs.getPath())\n",
    "\n",
    "#ALGORITMO A*\n",
    "search_astar = BlindSearch(start=start_node, successor=successor, goal=goal,\n",
    "                           strategy=\"a*\", goal_state=goal_state, heuristic=heuristic)\n",
    "result_astar = search_astar.find()\n",
    "print(\"Camino A*:\", result_astar.getPath())\n"
   ]
  },
  {
   "cell_type": "markdown",
   "id": "ec4ea3cf",
   "metadata": {},
   "source": [
    "**Dudas sobre, porque los metodos BFS y A(*) no estasn encontrando una solucion**"
   ]
  },
  {
   "cell_type": "markdown",
   "id": "a5be8828",
   "metadata": {},
   "source": [
    "## 5.  Para la visualización de caminos"
   ]
  },
  {
   "cell_type": "code",
   "execution_count": 20,
   "id": "f84a8f5c-add6-43b8-a312-388b111ae080",
   "metadata": {},
   "outputs": [
    {
     "data": {
      "image/png": "[encoded data removed]",
      "text/plain": [
       "<Figure size 640x480 with 1 Axes>"
      ]
     },
     "metadata": {},
     "output_type": "display_data"
    }
   ],
   "source": [
    "def show_multiple_paths(maze, paths_dict):\n",
    "    \"\"\"\n",
    "    paths_dict: diccionario con { \"BFS\": path_bfs, \"DFS\": path_dfs, \"A*\": path_astar }\n",
    "    \"\"\"\n",
    "    grid = np.array(maze)\n",
    "    plt.imshow(grid, cmap=\"binary\")\n",
    "\n",
    "    colors = {\"BFS\": \"red\", \"DFS\": \"blue\", \"A*\": \"green\"}\n",
    "    \n",
    "    for name, path in paths_dict.items():\n",
    "        if path:\n",
    "            xs = [p[0][1] for p in path]\n",
    "            ys = [p[0][0] for p in path]\n",
    "            plt.plot(xs, ys, color=colors[name], linewidth=2, label=name)\n",
    "\n",
    "    plt.legend()\n",
    "    plt.show()\n",
    "\n",
    "\n",
    "# PARA MOSTRAR LOS TRES CAMINOS\n",
    "paths_dict = {\n",
    "    \"BFS\": result_bfs.getPath(),\n",
    "    \"DFS\": result_dfs.getPath(),\n",
    "    \"A*\": result_astar.getPath()\n",
    "}\n",
    "\n",
    "show_multiple_paths(maze, paths_dict)\n"
   ]
  },
  {
   "cell_type": "code",
   "execution_count": 21,
   "id": "d98884cd-0268-4558-9d1e-11052b635982",
   "metadata": {},
   "outputs": [
    {
     "data": {
      "image/png": "[encoded data removed]",
      "text/plain": [
       "<Figure size 1500x500 with 3 Axes>"
      ]
     },
     "metadata": {},
     "output_type": "display_data"
    }
   ],
   "source": [
    "def show_paths_separately(maze, paths_dict):\n",
    "    grid = np.array(maze)\n",
    "    fig, axes = plt.subplots(1, len(paths_dict), figsize=(15,5))\n",
    "\n",
    "    colors = {\"BFS\": \"red\", \"DFS\": \"blue\", \"A*\": \"green\"}\n",
    "    \n",
    "    for ax, (name, path) in zip(axes, paths_dict.items()):\n",
    "        ax.imshow(grid, cmap=\"binary\")\n",
    "        if path:\n",
    "            xs = [p[0][1] for p in path]\n",
    "            ys = [p[0][0] for p in path]\n",
    "            ax.plot(xs, ys, color=colors[name], linewidth=2)\n",
    "        ax.set_title(f\"Camino con {name}\")\n",
    "        ax.axis(\"off\")\n",
    "    \n",
    "    plt.show()\n",
    "\n",
    "\n",
    "\n",
    "paths_dict = {\n",
    "    \"BFS\": result_bfs.getPath(),\n",
    "    \"DFS\": result_dfs.getPath(),\n",
    "    \"A*\": result_astar.getPath()\n",
    "}\n",
    "\n",
    "show_paths_separately(maze, paths_dict)\n"
   ]
  },
  {
   "cell_type": "code",
   "execution_count": 22,
   "id": "49d029a7-51b0-4d98-b09f-9c53fb333bdc",
   "metadata": {},
   "outputs": [
    {
     "name": "stdout",
     "output_type": "stream",
     "text": [
      "finished in 51 iterations\n",
      "finished in 27 iterations\n",
      "finished in 26 iterations\n"
     ]
    },
    {
     "data": {
      "text/html": [
       "<div>\n",
       "<style scoped>\n",
       "    .dataframe tbody tr th:only-of-type {\n",
       "        vertical-align: middle;\n",
       "    }\n",
       "\n",
       "    .dataframe tbody tr th {\n",
       "        vertical-align: top;\n",
       "    }\n",
       "\n",
       "    .dataframe thead th {\n",
       "        text-align: right;\n",
       "    }\n",
       "</style>\n",
       "<table border=\"1\" class=\"dataframe\">\n",
       "  <thead>\n",
       "    <tr style=\"text-align: right;\">\n",
       "      <th></th>\n",
       "      <th>Estrategia</th>\n",
       "      <th>Tiempo (s)</th>\n",
       "      <th>Nodos expandidos</th>\n",
       "      <th>Longitud del camino</th>\n",
       "    </tr>\n",
       "  </thead>\n",
       "  <tbody>\n",
       "    <tr>\n",
       "      <th>0</th>\n",
       "      <td>bfs</td>\n",
       "      <td>0.000940</td>\n",
       "      <td>55</td>\n",
       "      <td>21</td>\n",
       "    </tr>\n",
       "    <tr>\n",
       "      <th>1</th>\n",
       "      <td>dfs</td>\n",
       "      <td>0.000085</td>\n",
       "      <td>32</td>\n",
       "      <td>27</td>\n",
       "    </tr>\n",
       "    <tr>\n",
       "      <th>2</th>\n",
       "      <td>a*</td>\n",
       "      <td>0.000098</td>\n",
       "      <td>30</td>\n",
       "      <td>21</td>\n",
       "    </tr>\n",
       "  </tbody>\n",
       "</table>\n",
       "</div>"
      ],
      "text/plain": [
       "  Estrategia  Tiempo (s)  Nodos expandidos  Longitud del camino\n",
       "0        bfs    0.000940                55                   21\n",
       "1        dfs    0.000085                32                   27\n",
       "2         a*    0.000098                30                   21"
      ]
     },
     "execution_count": 22,
     "metadata": {},
     "output_type": "execute_result"
    }
   ],
   "source": [
    "\n",
    "\n",
    "def run_search(strategy, heuristic=None):\n",
    "    start_node = node(state=start_state)\n",
    "    search = BlindSearch(start=start_node, successor=successor, goal=goal,\n",
    "                         strategy=strategy, goal_state=goal_state, heuristic=heuristic)\n",
    "    t0 = time.time()\n",
    "    result = search.find()\n",
    "    t1 = time.time()\n",
    "    elapsed = t1 - t0\n",
    "    path = result.getPath()\n",
    "    return {\n",
    "        \"Estrategia\": strategy,\n",
    "        \"Tiempo (s)\": round(elapsed, 6),\n",
    "        \"Nodos expandidos\": len(search.visited),\n",
    "        \"Longitud del camino\": len(path)\n",
    "    }\n",
    "\n",
    "results = []\n",
    "results.append(run_search(\"bfs\"))\n",
    "results.append(run_search(\"dfs\"))\n",
    "results.append(run_search(\"a*\", heuristic=heuristic))\n",
    "\n",
    "df_results = pd.DataFrame(results)\n",
    "df_results\n"
   ]
  },
  {
   "cell_type": "code",
   "execution_count": null,
   "id": "d1cb1261-fd5d-4d5f-bd94-d1f3b8b1f0ee",
   "metadata": {},
   "outputs": [],
   "source": []
  },
  {
   "cell_type": "code",
   "execution_count": null,
   "id": "b1ad0100-812b-4bdd-a088-da8c69d15104",
   "metadata": {},
   "outputs": [],
   "source": []
  }
 ],
 "metadata": {
  "kernelspec": {
   "display_name": "mientorno",
   "language": "python",
   "name": "python3"
  },
  "language_info": {
   "codemirror_mode": {
    "name": "ipython",
    "version": 3
   },
   "file_extension": ".py",
   "mimetype": "text/x-python",
   "name": "python",
   "nbconvert_exporter": "python",
   "pygments_lexer": "ipython3",
   "version": "3.12.3"
  }
 },
 "nbformat": 4,
 "nbformat_minor": 5
}
