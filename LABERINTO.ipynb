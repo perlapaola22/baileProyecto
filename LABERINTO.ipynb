{
 "cells": [
  {
   "cell_type": "markdown",
   "id": "9630d778",
   "metadata": {},
   "source": [
    "# Introducción"
   ]
  },
  {
   "cell_type": "markdown",
   "id": "7f6d96ea-245e-43f4-9471-2119a36c6d34",
   "metadata": {},
   "source": [
    "## PROBLEMA PROPUESTO\n",
    "\n",
    "Resolver un laberinto arbitrario en donde un agente deberá encontrar un camino desde un punto de inicio hasta una salida, inicialmente suponiendo que solo hay un camino a encontrar.  \n",
    "El laberinto será representado como una matriz de $n$ por $m$, sus elementos podrán ser solamente $0$ y $1$, siendo $M$ el laberinto de prueba:\n",
    "$$\n",
    "M =\n",
    "\\begin{bmatrix}\n",
    "0 & 1 & 0 & 0 & 0\\\\  \n",
    "0 & 1 & 0 & 1 & 0\\\\\n",
    "0 & 0 & 0 & 1 & 0\\\\\n",
    "1 & 1 & 0 & 1 & 0\\\\  \n",
    "0 & 0 & 0 & 0 & 0\\\\\n",
    "\\end{bmatrix}\n",
    "$$\n"
   ]
  },
  {
   "cell_type": "markdown",
   "id": "0acd7391",
   "metadata": {},
   "source": [
    "### Estado\n",
    "El estado $s$ representará la posición actual del agente en el laberinto tal que es representado por el vector\n",
    "$$\n",
    "\\mathbf{s} =\n",
    "\\begin{bmatrix}\n",
    "x \\\\\n",
    "y\n",
    "\\end{bmatrix}\n",
    "$$"
   ]
  },
  {
   "cell_type": "markdown",
   "id": "56134418-1eba-47ab-a3c2-8b98356dc419",
   "metadata": {},
   "source": [
    "### Operación sucesor\n",
    "\n",
    "Desde un estado $(x, y)$, el agente puede moverse cuando mucho en cuatro direcciones, las direcciones en las que se puede mover dependen de si las celdas vecinas son paredes, caminos o bordes del mundo. Los cuatro movimientos disponibles serán:\n",
    "\n",
    "| Movimiento | Nueva posición        |\n",
    "|------------|-----------------------|\n",
    "| Arriba     | $(\\text{fila}-1, \\text{col})$   |\n",
    "| Abajo      | $(\\text{fila}+1, \\text{col})$   |\n",
    "| Izquierda  | $(\\text{fila}, \\text{col}-1)$   |\n",
    "| Derecha    | $(\\text{fila}, \\text{col}+1)$   |"
   ]
  },
  {
   "cell_type": "markdown",
   "id": "6e811906",
   "metadata": {},
   "source": [
    "### CONDICIÓN DE META\n",
    "La condicion de meta se cumple cuando el estado actual del agente (la posición $\\mathbf{p}_{\\text{actual}}$) es la posicion de salida $\\mathbf{p}_{\\text{meta}}$ del laberinto. Por ejemplo, si la meta es la coordenada $\\mathbf{p}_{\\text{meta}} = (x, y)$, el algoritmo termina cuando $\\mathbf{p}_{\\text{actual}} = \\mathbf{p}_{\\text{meta}}$.\n",
    "\n"
   ]
  },
  {
   "cell_type": "markdown",
   "id": "34681f93",
   "metadata": {},
   "source": [
    "### HEURISTICA PARA A*\n",
    "Heuristica apropiada es la **distancia Manhattan** ya que los movimientos están restringidos a 4 direcciones (diagonales no son posibles):\n",
    "$$ h(x_i,y_i) = | x - x_i| + |y - y_i|$$\n",
    "Siendo que:\n",
    "- $x$ y $y$ son las posiciones meta.\n",
    "- $x_i$ y $y_i$ son las posiciones de la iteración $i$.\n",
    "\n",
    "#### Justificacion\n",
    "La distancia de Manhattan es una heuristica admisible para este problema por que:\n",
    "- Admisibilidad: Nunca sobreestima el costo real de llegar a la meta. En un laberinto de cuadrícula, el camino más corto siempre será igual o mayor que la suma de las distancias horizontales y verticales.\n",
    "- Buen estimado: la distancia Manhattan da un mejor estimado que trazar directamente una recta que indique su distancia real con la meta, esto porque los movimientos diagonales no son posibles aquí."
   ]
  },
  {
   "cell_type": "markdown",
   "id": "19909d8a",
   "metadata": {},
   "source": [
    "## Desarrolo"
   ]
  },
  {
   "cell_type": "markdown",
   "id": "35cce443",
   "metadata": {},
   "source": [
    "### Preparación de las búsquedas"
   ]
  },
  {
   "cell_type": "markdown",
   "id": "3ebae957",
   "metadata": {},
   "source": [
    "Definición de las funciones que definen el comportamiento de la búsqueda:"
   ]
  },
  {
   "cell_type": "code",
   "execution_count": 2,
   "id": "21088e07",
   "metadata": {},
   "outputs": [],
   "source": [
    "from src.SimpleSearch import BlindSearch, node\n",
    "\n",
    "# Definir el laberinto y los estados\n",
    "maze = [\n",
    "    [0, 1, 0, 0, 0],\n",
    "    [0, 1, 0, 1, 0],\n",
    "    [0, 0, 0, 1, 0],\n",
    "    [1, 1, 0, 1, 0],\n",
    "    [0, 0, 0, 0, 0]\n",
    "]\n",
    "\n",
    "#ESTADOS\n",
    "initial_state = (0, 0)\n",
    "goal_state = (4, 4)"
   ]
  },
  {
   "cell_type": "code",
   "execution_count": null,
   "id": "a37c4f25",
   "metadata": {},
   "outputs": [],
   "source": [
    "\n",
    "\n",
    "# Función de sucesores para BlindSearch\n",
    "def succ(nodo):\n",
    "    state = nodo.state\n",
    "    row, col = state\n",
    "    moves = []\n",
    "\n",
    "    #OPERACION SUCESOR\n",
    "    # Estoy seguro que hay una forma más idiomática con list comprehensions\n",
    "    for action, (dr, dc) in {\n",
    "        'up': (-1, 0),\n",
    "        'down': (1, 0),\n",
    "        'left': (0, -1),\n",
    "        'right': (0, 1)\n",
    "    }.items():\n",
    "        new_row, new_col = row + dr, col + dc  # CORREGIDO: era row_i, row_j\n",
    "        if 0 <= new_row < len(maze) and 0 <= new_col < len(maze[0]):\n",
    "            if maze[new_row][new_col] == 0:\n",
    "                moves.append(node((new_row, new_col), parent=nodo, depth=nodo.depth+1, op=action))\n",
    "    return moves\n",
    "\n",
    "#CONDICION DE META\n",
    "def maze_is_solved(nodo, goal_state):\n",
    "    print(\"Comparando:\", nodo.state, goal_state)\n",
    "    return nodo.state == goal_state\n",
    "\n",
    "#HEURISTICA\n",
    "def heuristica_manhattan(nodo, goal_state):\n",
    "    row, col = nodo.state\n",
    "    goal_row, goal_col = goal_state\n",
    "    return abs(row - goal_row) + abs(col - goal_col)\n",
    "\n",
    "# Nodo inicial\n",
    "nodo_inicial = node(initial_state)\n"
   ]
  },
  {
   "cell_type": "markdown",
   "id": "07ddc167",
   "metadata": {},
   "source": [
    "Agregamos la definición de el problema de prueba:"
   ]
  },
  {
   "cell_type": "markdown",
   "id": "5f3c4d33",
   "metadata": {},
   "source": [
    "Antes de empezar con las búsquedas agregamos una función para dibujar los laberintos:"
   ]
  },
  {
   "cell_type": "code",
   "execution_count": 4,
   "id": "90f9a81d",
   "metadata": {},
   "outputs": [],
   "source": [
    "# Función para imprimir el laberinto con el camino los \"*\" muestran el camino a la solucion\n",
    "def print_maze_with_path(maze, path, start, goal):\n",
    "    maze_copy = [row.copy() for row in maze]\n",
    "    row, col = start\n",
    "    for move in path:\n",
    "        if move == 'up': row -= 1\n",
    "        if move == 'down': row += 1\n",
    "        if move == 'left': col -= 1\n",
    "        if move == 'right': col += 1\n",
    "        maze_copy[row][col] = '*'\n",
    "    s_row, s_col = start\n",
    "    g_row, g_col = goal\n",
    "    maze_copy[s_row][s_col] = 'S'\n",
    "    maze_copy[g_row][g_col] = 'G'\n",
    "    for r in maze_copy:\n",
    "        print(' '.join(str(c) for c in r))\n",
    "    print()\n"
   ]
  },
  {
   "cell_type": "markdown",
   "id": "a510abc2",
   "metadata": {},
   "source": [
    "### Búsquedas"
   ]
  },
  {
   "cell_type": "code",
   "execution_count": null,
   "id": "7470f561-7e2c-4160-8831-f837e36d56e6",
   "metadata": {},
   "outputs": [
    {
     "name": "stdout",
     "output_type": "stream",
     "text": [
      "Comparando: (0, 0) (4, 4)\n",
      "Comparando: (0, 0) (4, 4)\n",
      "Comparando: (1, 0) (4, 4)\n",
      "finished in 2 iterations\n",
      "Se acabaron los estados: 0\n",
      "Comparando: (1, 0) (4, 4)\n",
      "BFS \n",
      "S 1 0 0 0\n",
      "0 1 0 1 0\n",
      "0 0 0 1 0\n",
      "1 1 0 1 0\n",
      "0 0 0 0 G\n",
      "\n"
     ]
    }
   ],
   "source": [
    "print(\"=== INICIANDO BFS ===\")\n",
    "print(\"Estado inicial:\", initial_state)\n",
    "print(\"Estado meta:\", goal_state)\n",
    "\n",
    "busqueda_bfs = BlindSearch(\n",
    "    start=node(initial_state),  \n",
    "    successor=succ,\n",
    "    goal=maze_is_solved,\n",
    "    strategy=\"bfs\",\n",
    "    goal_state=goal_state\n",
    ")\n",
    "\n",
    "print(\"\\n--- Ejecutando BFS ---\")\n",
    "sol_bfs = busqueda_bfs.find(debug=True)\n",
    "print(\"--- BFS Terminado ---\\n\")\n",
    "\n",
    "if sol_bfs.state != \"Solution not found\":\n",
    "    camino_bfs = [step[1] for step in sol_bfs.getPath()][1:]\n",
    "    print(\"BFS - Camino encontrado:\")\n",
    "    print_maze_with_path(maze, camino_bfs, initial_state, goal_state)\n",
    "else:\n",
    "    print(\"BFS: No se encontró solución\")"
   ]
  },
  {
   "cell_type": "markdown",
   "id": "ef9da8ca",
   "metadata": {},
   "source": [
    "# Depth First Search"
   ]
  },
  {
   "cell_type": "code",
   "execution_count": null,
   "id": "7d43d7bc-ab8a-45fa-b8c0-ebc10b8d2e36",
   "metadata": {},
   "outputs": [],
   "source": [
    "# DFS\n",
    "busqueda_dfs = BlindSearch(\n",
    "    start=node(initial_state),\n",
    "    successor=succ,\n",
    "    goal=maze_is_solved,\n",
    "    strategy=\"dfs\",\n",
    "    goal_state=goal_state\n",
    ")\n",
    "sol_dfs = busqueda_dfs.find()\n",
    "camino_dfs = [step[1] for step in sol_dfs.getPath()][1:]\n",
    "\n",
    "print(\"DFS\")\n",
    "print_maze_with_path(maze, camino_dfs, initial_state, goal_state)\n"
   ]
  },
  {
   "cell_type": "markdown",
   "id": "aafe2971",
   "metadata": {},
   "source": [
    "# A\\* search"
   ]
  },
  {
   "cell_type": "code",
   "execution_count": null,
   "id": "6c14b5d0",
   "metadata": {},
   "outputs": [],
   "source": [
    "busqueda_astar = BlindSearch(\n",
    "    start=node(initial_state),\n",
    "    successor=succ,\n",
    "    goal=maze_is_solved,\n",
    "    strategy=\"a*\",\n",
    "    goal_state=goal_state,\n",
    "    heuristic=heuristica_manhattan\n",
    ")\n",
    "sol_astar = busqueda_astar.find()\n",
    "camino_astar = [step[1] for step in sol_astar.getPath()][1:]\n",
    "\n",
    "\n",
    "print(\"A*\")\n",
    "print_maze_with_path(maze, camino_astar, initial_state, goal_state)"
   ]
  },
  {
   "cell_type": "markdown",
   "id": "774e543c",
   "metadata": {},
   "source": [
    "# Medición de tiempo"
   ]
  },
  {
   "cell_type": "markdown",
   "id": "e1ccfd41",
   "metadata": {},
   "source": [
    "import time\n",
    "\n",
    "def run_and_measure(search_obj):\n",
    "    start_time = time.time()\n",
    "    solution = search_obj.find()\n",
    "    elapsed = time.time() - start_time\n",
    "    path = [step[1] for step in solution.getPath()][1:]\n",
    "    nodos_expandidos = getattr(search_obj, 'expanded', 'No disponible')\n",
    "    return elapsed, len(path), nodos_expandidos\n",
    "\n",
    "# calcular BFS\n",
    "bfs_time, bfs_length, bfs_expanded = run_and_measure(busqueda_bfs)\n",
    "# calcular DFS\n",
    "dfs_time, dfs_length, dfs_expanded = run_and_measure(busqueda_dfs)\n",
    "# calcular A*\n",
    "astar_time, astar_length, astar_expanded = run_and_measure(busqueda_astar)\n",
    "\n",
    "print(\"Comparación de algoritmos:\")\n",
    "print(f\"BFS:  Tiempo={bfs_time:.4f}s, Longitud camino={bfs_length}, Nodos expandidos={bfs_expanded}\")\n",
    "print(f\"DFS:  Tiempo={dfs_time:.4f}s, Longitud camino={dfs_length}, Nodos expandidos={dfs_expanded}\")\n",
    "print(f\"A*:   Tiempo={astar_time:.4f}s, Longitud camino={astar_length}, Nodos expandidos={astar_expanded}\")"
   ]
  }
 ],
 "metadata": {
  "kernelspec": {
   "display_name": "ai",
   "language": "python",
   "name": "python3"
  },
  "language_info": {
   "codemirror_mode": {
    "name": "ipython",
    "version": 3
   },
   "file_extension": ".py",
   "mimetype": "text/x-python",
   "name": "python",
   "nbconvert_exporter": "python",
   "pygments_lexer": "ipython3",
   "version": "3.12.11"
  }
 },
 "nbformat": 4,
 "nbformat_minor": 5
}
