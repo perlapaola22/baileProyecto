{
 "cells": [
  {
   "cell_type": "markdown",
   "id": "ae343a12-2991-4ba9-a60c-8e582803ecab",
   "metadata": {},
   "source": [
    "\n",
    "# Proyecto: Camino más corto en un laberinto\n",
    "\n",
    "En este proyecto se utiliza la librería [baile](https://github.com/kyriox/baile) para resolver el problema del **camino más corto en un laberinto** utilizando algoritmos de búsqueda no informada (BFS, DFS) e informada (A*).\n",
    "\n",
    "Se definen:\n",
    "- **Estado**: una posición `(x, y)` dentro del laberinto.\n",
    "- **Sucesores**: posiciones vecinas a las que el agente puede moverse (arriba, abajo, izquierda, derecha), siempre que no sean paredes.\n",
    "- **Meta**: alcanzar la posición objetivo `(x_goal, y_goal)`.\n",
    "- **Heurística**: distancia Manhattan entre la posición actual y la meta.\n",
    "\n",
    "Finalmente, se comparan los resultados en cuanto a tiempo, nodos expandidos y calidad de la solución.\n",
    "\n",
    "# IDEA DE PROYECTO\n",
    "Queremos encontrar el camino más corto en un laberinto usando algoritmos de búsqueda:\n",
    "\n",
    "BFS → búsqueda no informada (nivel por nivel)\n",
    "\n",
    "DFS → búsqueda no informada (profundidad)\n",
    "\n",
    "A* → búsqueda informada con heurística (distancia Manhattan)\n",
    "\n",
    "Para esto necesitamos:\n",
    "\n",
    "Una clase que represente el problema del laberinto.\n",
    "\n",
    "Algoritmos de búsqueda que puedan trabajar con esa clase.\n",
    "\n",
    "Comparar resultados y mostrar el camino."
   ]
  },
  {
   "cell_type": "markdown",
   "id": "c126d44e-eea2-4777-bb56-46d0303fc570",
   "metadata": {},
   "source": [
    "# 1. Clona tu fork:"
   ]
  },
  {
   "cell_type": "code",
   "execution_count": 1,
   "id": "066aa84b-538c-488a-a8d1-864e9c7d67b7",
   "metadata": {},
   "outputs": [
    {
     "name": "stdout",
     "output_type": "stream",
     "text": [
      "fatal: destination path 'baileProyecto' already exists and is not an empty directory.\n"
     ]
    }
   ],
   "source": [
    "!git clone https://github.com/perlapaola22/baileProyecto   #PARA CLONAR EL REPOSITORIO\n"
   ]
  },
  {
   "cell_type": "markdown",
   "id": "1418c8f2-ea16-455c-89bb-b72fdf0247cd",
   "metadata": {},
   "source": [
    "# 2. agregar carpeta src/ del fork al sys.path"
   ]
  },
  {
   "cell_type": "code",
   "execution_count": 25,
   "id": "ec7de01b-1198-4d39-a3e2-ba711d856958",
   "metadata": {},
   "outputs": [],
   "source": [
    "\n",
    "\n",
    "import sys\n",
    "sys.path.append(\"/home/paola/IA/baileProyecto/src\")  # AGREGAR SRC AL PATH\n"
   ]
  },
  {
   "cell_type": "code",
   "execution_count": null,
   "id": "e9f0b61b-ee9c-495c-9e1e-37aeb0c31d32",
   "metadata": {},
   "outputs": [],
   "source": []
  },
  {
   "cell_type": "markdown",
   "id": "c022ed7e-eca7-48d4-9968-22d7c72536d6",
   "metadata": {},
   "source": [
    "**para ver que hay en SimpleSearch.py**\n"
   ]
  },
  {
   "cell_type": "code",
   "execution_count": null,
   "id": "6fccc406-57c0-4308-ac41-57206ec5a572",
   "metadata": {},
   "outputs": [],
   "source": []
  },
  {
   "cell_type": "code",
   "execution_count": 30,
   "id": "2cd5bf23-a305-4679-b9ee-9ed9d8d45412",
   "metadata": {},
   "outputs": [
    {
     "data": {
      "text/plain": [
       "['BlindSearch',\n",
       " '__builtins__',\n",
       " '__cached__',\n",
       " '__doc__',\n",
       " '__file__',\n",
       " '__loader__',\n",
       " '__name__',\n",
       " '__package__',\n",
       " '__spec__',\n",
       " 'heapq',\n",
       " 'node']"
      ]
     },
     "execution_count": 30,
     "metadata": {},
     "output_type": "execute_result"
    }
   ],
   "source": [
    "import SimpleSearch\n",
    "dir(SimpleSearch)\n"
   ]
  },
  {
   "cell_type": "markdown",
   "id": "b1509b81-953e-4f2a-9f22-a2429199ee8b",
   "metadata": {},
   "source": [
    "**Verificar que funciona:**\n"
   ]
  },
  {
   "cell_type": "code",
   "execution_count": 2,
   "id": "1f1ccacd-534d-491c-ae47-66e3df5509e3",
   "metadata": {},
   "outputs": [
    {
     "name": "stdout",
     "output_type": "stream",
     "text": [
      "baile cargado correctamente\n"
     ]
    }
   ],
   "source": [
    "import baile\n",
    "print(baile.__version__ if hasattr(baile, \"__version__\") else \"baile cargado correctamente\")\n"
   ]
  },
  {
   "cell_type": "markdown",
   "id": "a62a9e83-8ec0-4b62-842a-27a1bd9424aa",
   "metadata": {},
   "source": [
    "**CREAR PROYECTO DE LABERINTO:**"
   ]
  },
  {
   "cell_type": "code",
   "execution_count": 9,
   "id": "f8d13808-d141-463e-b39f-18d2da5030ba",
   "metadata": {},
   "outputs": [
    {
     "name": "stdout",
     "output_type": "stream",
     "text": [
      "python3: can't open file '/home/paola/IA/laberintoSolver.py': [Errno 2] No such file or directory\n"
     ]
    }
   ],
   "source": [
    "!python3 laberintoSolver.py\n"
   ]
  },
  {
   "cell_type": "code",
   "execution_count": 10,
   "id": "a1035529-d384-4fbb-b7cf-2102fb5d0e72",
   "metadata": {},
   "outputs": [],
   "source": [
    "# Representación del laberinto\n",
    "# 0 = libre, 1 = pared\n",
    "laberinto = [\n",
    "    [0, 1, 0, 0, 0],\n",
    "    [0, 1, 0, 1, 0],\n",
    "    [0, 0, 0, 1, 0],\n",
    "    [1, 1, 0, 0, 0],\n",
    "    [0, 0, 0, 1, 0]\n",
    "]\n",
    "\n",
    "inicio = (0,0)\n",
    "meta = (4,4)\n"
   ]
  },
  {
   "cell_type": "code",
   "execution_count": 11,
   "id": "3dbada10-f6d5-4b14-979d-9c6472296efc",
   "metadata": {},
   "outputs": [],
   "source": [
    "class LaberintoProblem:\n",
    "    def __init__(self, laberinto, inicio, meta):\n",
    "        self.laberinto = laberinto\n",
    "        self.inicio = inicio\n",
    "        self.meta = meta\n",
    "        self.movs = [(-1,0),(1,0),(0,-1),(0,1)]  # Arriba, abajo, izquierda, derecha\n",
    "\n",
    "    def acciones(self, estado):\n",
    "        x, y = estado\n",
    "        return [(x+dx, y+dy) for dx, dy in self.movs\n",
    "                if 0 <= x+dx < len(self.laberinto)\n",
    "                and 0 <= y+dy < len(self.laberinto[0])\n",
    "                and self.laberinto[x+dx][y+dy] == 0]\n",
    "\n",
    "    def es_meta(self, estado):\n",
    "        return estado == self.meta\n"
   ]
  },
  {
   "cell_type": "code",
   "execution_count": 12,
   "id": "f0f7c57c-4742-4727-9b9a-fa3e7726c30a",
   "metadata": {},
   "outputs": [],
   "source": [
    "from collections import deque\n",
    "\n",
    "def bfs(problem):\n",
    "    queue = deque([problem.inicio])\n",
    "    visitados = {problem.inicio: None}\n",
    "\n",
    "    while queue:\n",
    "        actual = queue.popleft()\n",
    "        if problem.es_meta(actual):\n",
    "            break\n",
    "        for vecino in problem.acciones(actual):\n",
    "            if vecino not in visitados:\n",
    "                visitados[vecino] = actual\n",
    "                queue.append(vecino)\n",
    "\n",
    "    # Reconstruir el camino\n",
    "    camino = []\n",
    "    nodo = problem.meta\n",
    "    while nodo:\n",
    "        camino.append(nodo)\n",
    "        nodo = visitados[nodo]\n",
    "    camino.reverse()\n",
    "    return camino\n"
   ]
  },
  {
   "cell_type": "code",
   "execution_count": 13,
   "id": "1be530ae-214b-4aaf-bc2d-90fdef65171a",
   "metadata": {},
   "outputs": [
    {
     "name": "stdout",
     "output_type": "stream",
     "text": [
      "S # . . . \n",
      "* # . # . \n",
      "* * * # . \n",
      "# # * * * \n",
      ". . . # G \n"
     ]
    }
   ],
   "source": [
    "problema = LaberintoProblem(laberinto, inicio, meta)\n",
    "camino = bfs(problema)\n",
    "\n",
    "# Visualización simple\n",
    "for i in range(len(laberinto)):\n",
    "    for j in range(len(laberinto[0])):\n",
    "        if (i,j) == inicio:\n",
    "            print(\"S\", end=\" \")\n",
    "        elif (i,j) == meta:\n",
    "            print(\"G\", end=\" \")\n",
    "        elif (i,j) in camino:\n",
    "            print(\"*\", end=\" \")\n",
    "        elif laberinto[i][j] == 1:\n",
    "            print(\"#\", end=\" \")\n",
    "        else:\n",
    "            print(\".\", end=\" \")\n",
    "    print()\n",
    "\n"
   ]
  },
  {
   "cell_type": "code",
   "execution_count": 14,
   "id": "587517da-2668-4f19-8034-bbcfcf6d7357",
   "metadata": {},
   "outputs": [
    {
     "name": "stderr",
     "output_type": "stream",
     "text": [
      "/tmp/ipykernel_937/2042618080.py:19: MatplotlibDeprecationWarning: The get_cmap function was deprecated in Matplotlib 3.7 and will be removed in 3.11. Use ``matplotlib.colormaps[name]`` or ``matplotlib.colormaps.get_cmap()`` or ``pyplot.get_cmap()`` instead.\n",
      "  cmap = plt.cm.get_cmap('viridis', 5)\n"
     ]
    },
    {
     "data": {
      "image/png": "[encoded data removed]",
      "text/plain": [
       "<Figure size 500x500 with 1 Axes>"
      ]
     },
     "metadata": {},
     "output_type": "display_data"
    }
   ],
   "source": [
    "import matplotlib.pyplot as plt\n",
    "import numpy as np\n",
    "\n",
    "# Convertimos el laberinto a un array de numpy\n",
    "lab_array = np.array(laberinto)\n",
    "\n",
    "# Creamos una copia para marcar el camino\n",
    "lab_vis = lab_array.copy()\n",
    "\n",
    "# Marcamos el camino con un valor distinto (2)\n",
    "for x, y in camino:\n",
    "    lab_vis[x, y] = 2\n",
    "\n",
    "# Marcamos inicio y meta\n",
    "lab_vis[inicio] = 3\n",
    "lab_vis[meta] = 4\n",
    "\n",
    "# Definimos un mapa de colores: 0=blanco, 1=negro, 2=verde (camino), 3=azul (inicio), 4=rojo (meta)\n",
    "cmap = plt.cm.get_cmap('viridis', 5)\n",
    "\n",
    "plt.figure(figsize=(5,5))\n",
    "plt.imshow(lab_vis, cmap=cmap, origin='upper')\n",
    "plt.xticks([])  # quitar ejes\n",
    "plt.yticks([])\n",
    "plt.show()\n"
   ]
  },
  {
   "cell_type": "code",
   "execution_count": 15,
   "id": "d517afd2-2f8b-478f-87d3-8796e4684896",
   "metadata": {},
   "outputs": [
    {
     "data": {
      "image/png": "[encoded data removed]",
      "text/plain": [
       "<Figure size 500x500 with 1 Axes>"
      ]
     },
     "metadata": {},
     "output_type": "display_data"
    }
   ],
   "source": [
    "plt.figure(figsize=(5,5))\n",
    "for i in range(len(laberinto)):\n",
    "    for j in range(len(laberinto[0])):\n",
    "        color = 'white'\n",
    "        if (i,j) == inicio:\n",
    "            color = 'blue'\n",
    "        elif (i,j) == meta:\n",
    "            color = 'red'\n",
    "        elif laberinto[i][j] == 1:\n",
    "            color = 'black'\n",
    "        elif (i,j) in camino:\n",
    "            color = 'green'\n",
    "        plt.gca().add_patch(plt.Rectangle((j, i), 1, 1, facecolor=color))\n",
    "plt.xlim(0, len(laberinto[0]))\n",
    "plt.ylim(0, len(laberinto))\n",
    "plt.gca().invert_yaxis()\n",
    "plt.gca().set_aspect('equal')\n",
    "plt.axis('off')\n",
    "plt.show()\n"
   ]
  },
  {
   "cell_type": "code",
   "execution_count": null,
   "id": "a5c5491f-8431-497a-9106-baf6f3fe148f",
   "metadata": {},
   "outputs": [],
   "source": []
  }
 ],
 "metadata": {
  "kernelspec": {
   "display_name": "Python 3 (ipykernel)",
   "language": "python",
   "name": "python3"
  },
  "language_info": {
   "codemirror_mode": {
    "name": "ipython",
    "version": 3
   },
   "file_extension": ".py",
   "mimetype": "text/x-python",
   "name": "python",
   "nbconvert_exporter": "python",
   "pygments_lexer": "ipython3",
   "version": "3.12.3"
  }
 },
 "nbformat": 4,
 "nbformat_minor": 5
}
